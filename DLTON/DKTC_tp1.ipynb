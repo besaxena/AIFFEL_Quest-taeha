{
 "cells": [
  {
   "cell_type": "code",
   "execution_count": 1,
   "id": "be7be609",
   "metadata": {},
   "outputs": [
    {
     "name": "stdout",
     "output_type": "stream",
     "text": [
      "Requirement already satisfied: wandb==0.16.0 in /opt/conda/lib/python3.9/site-packages (0.16.0)\n",
      "Requirement already satisfied: setproctitle in /opt/conda/lib/python3.9/site-packages (from wandb==0.16.0) (1.3.3)\n",
      "Requirement already satisfied: PyYAML in /opt/conda/lib/python3.9/site-packages (from wandb==0.16.0) (6.0)\n",
      "Requirement already satisfied: requests<3,>=2.0.0 in /opt/conda/lib/python3.9/site-packages (from wandb==0.16.0) (2.26.0)\n",
      "Requirement already satisfied: docker-pycreds>=0.4.0 in /opt/conda/lib/python3.9/site-packages (from wandb==0.16.0) (0.4.0)\n",
      "Requirement already satisfied: sentry-sdk>=1.0.0 in /opt/conda/lib/python3.9/site-packages (from wandb==0.16.0) (1.35.0)\n",
      "Requirement already satisfied: appdirs>=1.4.3 in /opt/conda/lib/python3.9/site-packages (from wandb==0.16.0) (1.4.4)\n",
      "Requirement already satisfied: setuptools in /opt/conda/lib/python3.9/site-packages (from wandb==0.16.0) (59.4.0)\n",
      "Requirement already satisfied: GitPython!=3.1.29,>=1.0.0 in /opt/conda/lib/python3.9/site-packages (from wandb==0.16.0) (3.1.40)\n",
      "Requirement already satisfied: psutil>=5.0.0 in /opt/conda/lib/python3.9/site-packages (from wandb==0.16.0) (5.8.0)\n",
      "Requirement already satisfied: protobuf!=4.21.0,<5,>=3.15.0 in /opt/conda/lib/python3.9/site-packages (from wandb==0.16.0) (3.19.1)\n",
      "Requirement already satisfied: typing-extensions in /opt/conda/lib/python3.9/site-packages (from wandb==0.16.0) (4.0.1)\n",
      "Requirement already satisfied: Click!=8.0.0,>=7.1 in /opt/conda/lib/python3.9/site-packages (from wandb==0.16.0) (8.0.3)\n",
      "Requirement already satisfied: six>=1.4.0 in /opt/conda/lib/python3.9/site-packages (from docker-pycreds>=0.4.0->wandb==0.16.0) (1.16.0)\n",
      "Requirement already satisfied: gitdb<5,>=4.0.1 in /opt/conda/lib/python3.9/site-packages (from GitPython!=3.1.29,>=1.0.0->wandb==0.16.0) (4.0.11)\n",
      "Requirement already satisfied: certifi>=2017.4.17 in /opt/conda/lib/python3.9/site-packages (from requests<3,>=2.0.0->wandb==0.16.0) (2021.10.8)\n",
      "Requirement already satisfied: urllib3<1.27,>=1.21.1 in /opt/conda/lib/python3.9/site-packages (from requests<3,>=2.0.0->wandb==0.16.0) (1.26.18)\n",
      "Requirement already satisfied: charset-normalizer~=2.0.0 in /opt/conda/lib/python3.9/site-packages (from requests<3,>=2.0.0->wandb==0.16.0) (2.0.8)\n",
      "Requirement already satisfied: idna<4,>=2.5 in /opt/conda/lib/python3.9/site-packages (from requests<3,>=2.0.0->wandb==0.16.0) (2.10)\n",
      "Requirement already satisfied: smmap<6,>=3.0.1 in /opt/conda/lib/python3.9/site-packages (from gitdb<5,>=4.0.1->GitPython!=3.1.29,>=1.0.0->wandb==0.16.0) (5.0.1)\n",
      "\u001b[33mWARNING: Running pip as the 'root' user can result in broken permissions and conflicting behaviour with the system package manager. It is recommended to use a virtual environment instead: https://pip.pypa.io/warnings/venv\u001b[0m\n"
     ]
    }
   ],
   "source": [
    "!pip install wandb==0.16.0"
   ]
  },
  {
   "cell_type": "code",
   "execution_count": 2,
   "id": "191fb172",
   "metadata": {},
   "outputs": [],
   "source": [
    "#라이브러리 임포트\n",
    "import pandas as pd\n",
    "import tensorflow as tf\n",
    "from tensorflow import keras\n",
    "from sklearn.model_selection import train_test_split\n",
    "import wandb\n",
    "from wandb.keras import WandbCallback\n",
    "from sklearn.preprocessing import LabelEncoder"
   ]
  },
  {
   "cell_type": "markdown",
   "id": "b0f9a498",
   "metadata": {},
   "source": [
    "W&B 커널에 설치하는 코드\n",
    "- pip install wandb==0.16.0"
   ]
  },
  {
   "cell_type": "code",
   "execution_count": 3,
   "id": "a1522c30",
   "metadata": {
    "scrolled": true
   },
   "outputs": [
    {
     "data": {
      "text/html": [
       "<div>\n",
       "<style scoped>\n",
       "    .dataframe tbody tr th:only-of-type {\n",
       "        vertical-align: middle;\n",
       "    }\n",
       "\n",
       "    .dataframe tbody tr th {\n",
       "        vertical-align: top;\n",
       "    }\n",
       "\n",
       "    .dataframe thead th {\n",
       "        text-align: right;\n",
       "    }\n",
       "</style>\n",
       "<table border=\"1\" class=\"dataframe\">\n",
       "  <thead>\n",
       "    <tr style=\"text-align: right;\">\n",
       "      <th></th>\n",
       "      <th>idx</th>\n",
       "      <th>class</th>\n",
       "      <th>conversation</th>\n",
       "    </tr>\n",
       "  </thead>\n",
       "  <tbody>\n",
       "    <tr>\n",
       "      <th>0</th>\n",
       "      <td>0</td>\n",
       "      <td>협박 대화</td>\n",
       "      <td>지금 너 스스로를 죽여달라고 애원하는 것인가?\\n 아닙니다. 죄송합니다.\\n 죽을 ...</td>\n",
       "    </tr>\n",
       "    <tr>\n",
       "      <th>1</th>\n",
       "      <td>1</td>\n",
       "      <td>협박 대화</td>\n",
       "      <td>길동경찰서입니다.\\n9시 40분 마트에 폭발물을 설치할거다.\\n네?\\n똑바로 들어 ...</td>\n",
       "    </tr>\n",
       "    <tr>\n",
       "      <th>2</th>\n",
       "      <td>2</td>\n",
       "      <td>기타 괴롭힘 대화</td>\n",
       "      <td>너 되게 귀여운거 알지? 나보다 작은 남자는 첨봤어.\\n그만해. 니들 놀리는거 재미...</td>\n",
       "    </tr>\n",
       "    <tr>\n",
       "      <th>3</th>\n",
       "      <td>3</td>\n",
       "      <td>갈취 대화</td>\n",
       "      <td>어이 거기\\n예??\\n너 말이야 너. 이리 오라고\\n무슨 일.\\n너 옷 좋아보인다?...</td>\n",
       "    </tr>\n",
       "    <tr>\n",
       "      <th>4</th>\n",
       "      <td>4</td>\n",
       "      <td>갈취 대화</td>\n",
       "      <td>저기요 혹시 날이 너무 뜨겁잖아요? 저희 회사에서 이 선크림 파는데 한 번 손등에 ...</td>\n",
       "    </tr>\n",
       "  </tbody>\n",
       "</table>\n",
       "</div>"
      ],
      "text/plain": [
       "   idx      class                                       conversation\n",
       "0    0      협박 대화  지금 너 스스로를 죽여달라고 애원하는 것인가?\\n 아닙니다. 죄송합니다.\\n 죽을 ...\n",
       "1    1      협박 대화  길동경찰서입니다.\\n9시 40분 마트에 폭발물을 설치할거다.\\n네?\\n똑바로 들어 ...\n",
       "2    2  기타 괴롭힘 대화  너 되게 귀여운거 알지? 나보다 작은 남자는 첨봤어.\\n그만해. 니들 놀리는거 재미...\n",
       "3    3      갈취 대화  어이 거기\\n예??\\n너 말이야 너. 이리 오라고\\n무슨 일.\\n너 옷 좋아보인다?...\n",
       "4    4      갈취 대화  저기요 혹시 날이 너무 뜨겁잖아요? 저희 회사에서 이 선크림 파는데 한 번 손등에 ..."
      ]
     },
     "execution_count": 3,
     "metadata": {},
     "output_type": "execute_result"
    }
   ],
   "source": [
    "#train 데이터 불러오기 및 확인\n",
    "train_data_path =\"~/aiffel/dktc/data/train.csv\"\n",
    "train_data = pd.read_csv(train_data_path)\n",
    "train_data.head()"
   ]
  },
  {
   "cell_type": "markdown",
   "id": "43111068",
   "metadata": {},
   "source": [
    "### 기본적인 데이터 확인1"
   ]
  },
  {
   "cell_type": "code",
   "execution_count": 4,
   "id": "63ff41ee",
   "metadata": {},
   "outputs": [
    {
     "name": "stdout",
     "output_type": "stream",
     "text": [
      "class\n",
      "갈취 대화           981\n",
      "기타 괴롭힘 대화      1094\n",
      "직장 내 괴롭힘 대화     979\n",
      "협박 대화           896\n",
      "dtype: int64\n"
     ]
    }
   ],
   "source": [
    "#클래스 갯수 확인\n",
    "class_counts = train_data.groupby('class').size()\n",
    "print(class_counts)"
   ]
  },
  {
   "cell_type": "code",
   "execution_count": 5,
   "id": "f9bed3ba",
   "metadata": {},
   "outputs": [
    {
     "data": {
      "text/html": [
       "<div>\n",
       "<style scoped>\n",
       "    .dataframe tbody tr th:only-of-type {\n",
       "        vertical-align: middle;\n",
       "    }\n",
       "\n",
       "    .dataframe tbody tr th {\n",
       "        vertical-align: top;\n",
       "    }\n",
       "\n",
       "    .dataframe thead th {\n",
       "        text-align: right;\n",
       "    }\n",
       "</style>\n",
       "<table border=\"1\" class=\"dataframe\">\n",
       "  <thead>\n",
       "    <tr style=\"text-align: right;\">\n",
       "      <th></th>\n",
       "      <th>idx</th>\n",
       "      <th>class</th>\n",
       "      <th>conversation</th>\n",
       "    </tr>\n",
       "  </thead>\n",
       "  <tbody>\n",
       "    <tr>\n",
       "      <th>0</th>\n",
       "      <td>0</td>\n",
       "      <td>협박 대화</td>\n",
       "      <td>지금 너 스스로를 죽여달라고 애원하는 것인가?\\n 아닙니다. 죄송합니다.\\n 죽을 ...</td>\n",
       "    </tr>\n",
       "    <tr>\n",
       "      <th>1</th>\n",
       "      <td>1</td>\n",
       "      <td>협박 대화</td>\n",
       "      <td>길동경찰서입니다.\\n9시 40분 마트에 폭발물을 설치할거다.\\n네?\\n똑바로 들어 ...</td>\n",
       "    </tr>\n",
       "    <tr>\n",
       "      <th>12</th>\n",
       "      <td>12</td>\n",
       "      <td>협박 대화</td>\n",
       "      <td>네네 무슨 일 때문에 전화주셨나요?\\n우리 애가 지우개 하나 훔친거 가지고 애들 앞...</td>\n",
       "    </tr>\n",
       "    <tr>\n",
       "      <th>20</th>\n",
       "      <td>20</td>\n",
       "      <td>협박 대화</td>\n",
       "      <td>너가 민수라는 남자 제자니?\\n네 맞는데요 왜 그러시죠? 혹시 저희 선생님께 무슨 ...</td>\n",
       "    </tr>\n",
       "    <tr>\n",
       "      <th>23</th>\n",
       "      <td>23</td>\n",
       "      <td>협박 대화</td>\n",
       "      <td>나좀 제발 그만 따라다녀.부탁이야\\n너 만나려면 널 찾아가야될거아냐\\n우리 헤어졌자...</td>\n",
       "    </tr>\n",
       "    <tr>\n",
       "      <th>...</th>\n",
       "      <td>...</td>\n",
       "      <td>...</td>\n",
       "      <td>...</td>\n",
       "    </tr>\n",
       "    <tr>\n",
       "      <th>3924</th>\n",
       "      <td>3924</td>\n",
       "      <td>협박 대화</td>\n",
       "      <td>때리지 말아줘\\n 아퍼? 아프면 참아봐.\\n나 이미 충분히 병원다니고 있어.\\n병원...</td>\n",
       "    </tr>\n",
       "    <tr>\n",
       "      <th>3925</th>\n",
       "      <td>3925</td>\n",
       "      <td>협박 대화</td>\n",
       "      <td>오랜만이다. 여기 니 인질\\n그래. 형이 무사히 다 빠져나가고 나면 그 다음에 이야...</td>\n",
       "    </tr>\n",
       "    <tr>\n",
       "      <th>3926</th>\n",
       "      <td>3926</td>\n",
       "      <td>협박 대화</td>\n",
       "      <td>아가씨 너희 집 어딘지 이제 아는데.\\n 선생님 제발 우리 집에는 오지 마세요.\\n...</td>\n",
       "    </tr>\n",
       "    <tr>\n",
       "      <th>3929</th>\n",
       "      <td>3929</td>\n",
       "      <td>협박 대화</td>\n",
       "      <td>안녕하세요 중고나라보고 문의드려요\\n네 아이폰 50만원에 팔아요\\n네 입금했습니다\\...</td>\n",
       "    </tr>\n",
       "    <tr>\n",
       "      <th>3938</th>\n",
       "      <td>3938</td>\n",
       "      <td>협박 대화</td>\n",
       "      <td>한국지검검사 윤동철 입니다. 지금 박세미님 계좌가 범죄에 연루되어 있으니 빨리 저한...</td>\n",
       "    </tr>\n",
       "  </tbody>\n",
       "</table>\n",
       "<p>896 rows × 3 columns</p>\n",
       "</div>"
      ],
      "text/plain": [
       "       idx  class                                       conversation\n",
       "0        0  협박 대화  지금 너 스스로를 죽여달라고 애원하는 것인가?\\n 아닙니다. 죄송합니다.\\n 죽을 ...\n",
       "1        1  협박 대화  길동경찰서입니다.\\n9시 40분 마트에 폭발물을 설치할거다.\\n네?\\n똑바로 들어 ...\n",
       "12      12  협박 대화  네네 무슨 일 때문에 전화주셨나요?\\n우리 애가 지우개 하나 훔친거 가지고 애들 앞...\n",
       "20      20  협박 대화  너가 민수라는 남자 제자니?\\n네 맞는데요 왜 그러시죠? 혹시 저희 선생님께 무슨 ...\n",
       "23      23  협박 대화  나좀 제발 그만 따라다녀.부탁이야\\n너 만나려면 널 찾아가야될거아냐\\n우리 헤어졌자...\n",
       "...    ...    ...                                                ...\n",
       "3924  3924  협박 대화  때리지 말아줘\\n 아퍼? 아프면 참아봐.\\n나 이미 충분히 병원다니고 있어.\\n병원...\n",
       "3925  3925  협박 대화  오랜만이다. 여기 니 인질\\n그래. 형이 무사히 다 빠져나가고 나면 그 다음에 이야...\n",
       "3926  3926  협박 대화  아가씨 너희 집 어딘지 이제 아는데.\\n 선생님 제발 우리 집에는 오지 마세요.\\n...\n",
       "3929  3929  협박 대화  안녕하세요 중고나라보고 문의드려요\\n네 아이폰 50만원에 팔아요\\n네 입금했습니다\\...\n",
       "3938  3938  협박 대화  한국지검검사 윤동철 입니다. 지금 박세미님 계좌가 범죄에 연루되어 있으니 빨리 저한...\n",
       "\n",
       "[896 rows x 3 columns]"
      ]
     },
     "execution_count": 5,
     "metadata": {},
     "output_type": "execute_result"
    }
   ],
   "source": [
    "train_data[train_data['class']=='협박 대화']"
   ]
  },
  {
   "cell_type": "code",
   "execution_count": 6,
   "id": "4f5e4ac9",
   "metadata": {},
   "outputs": [],
   "source": [
    "# train da를 x,y로 분류\n",
    "\n",
    "x_train = train_data['conversation']\n",
    "y_train = train_data['class']"
   ]
  },
  {
   "cell_type": "markdown",
   "id": "0d1a6ea7",
   "metadata": {},
   "source": [
    "### 기본적인 데이터 확인 2"
   ]
  },
  {
   "cell_type": "code",
   "execution_count": 7,
   "id": "db8e4488",
   "metadata": {},
   "outputs": [],
   "source": [
    "import matplotlib.pyplot as plt\n",
    "# Colab에서 한글 폰트 설정\n",
    "plt.rcParams['font.family'] = 'NanumBarunGothic'\n",
    "plt.rcParams['axes.unicode_minus'] = False  # 마이너스 기호 깨짐 방지\n",
    "import numpy as np\n",
    "import pandas as pd\n",
    "import seaborn as sns"
   ]
  },
  {
   "cell_type": "code",
   "execution_count": 8,
   "id": "be31c4aa",
   "metadata": {},
   "outputs": [
    {
     "name": "stdout",
     "output_type": "stream",
     "text": [
      "데이터 정보\n",
      "--------------------------------------------------\n",
      "x_train : (3950,)\n",
      "y_train : (3950,)\n",
      "label 종류: {'협박 대화', '기타 괴롭힘 대화', '직장 내 괴롭힘 대화', '갈취 대화'}\n",
      "--------------------------------------------------\n",
      "클래스의 수 : 4\n",
      "--------------------------------------------------\n",
      "훈련용 뉴스의 최대 길이 :874\n",
      "훈련용 뉴스의 평균 길이 :226.57088607594937\n"
     ]
    },
    {
     "data": {
      "image/png": "[encoded data removed]",
      "text/plain": [
       "<Figure size 1080x360 with 2 Axes>"
      ]
     },
     "metadata": {
      "needs_background": "light"
     },
     "output_type": "display_data"
    }
   ],
   "source": [
    "print('데이터 정보')\n",
    "print('-'*50)\n",
    "print('x_train :',x_train.shape)\n",
    "print('y_train :',y_train.shape)\n",
    "print('label 종류:', set(y_train))\n",
    "print('-'*50)\n",
    "num_classes = 4\n",
    "print('클래스의 수 : {}'.format(num_classes))\n",
    "print('-'*50)\n",
    "print('훈련용 뉴스의 최대 길이 :{}'.format(max(len(l) for l in x_train)))\n",
    "print('훈련용 뉴스의 평균 길이 :{}'.format(sum(map(len, x_train))/len(x_train)))\n",
    "\n",
    "# Create a figure with two subplots\n",
    "fig, axes = plt.subplots(nrows=1, ncols=2, figsize=(15, 5))\n",
    "\n",
    "# Plot the histogram of sample lengths\n",
    "axes[0].hist([len(s) for s in x_train], bins=50)\n",
    "axes[0].set_xlabel('length of samples')\n",
    "axes[0].set_ylabel('number of samples')\n",
    "axes[0].set_title('Sample Length Distribution')\n",
    "\n",
    "# Plot the count of each class\n",
    "sns.countplot(x=y_train, ax=axes[1])\n",
    "axes[1].set_title('Class Distribution')\n",
    "\n",
    "# Adjust layout\n",
    "plt.tight_layout()\n",
    "\n",
    "# Show the plots\n",
    "plt.show()"
   ]
  },
  {
   "cell_type": "code",
   "execution_count": 9,
   "id": "cff69163",
   "metadata": {},
   "outputs": [
    {
     "data": {
      "image/png": "[encoded data removed]",
      "text/plain": [
       "<Figure size 1080x360 with 4 Axes>"
      ]
     },
     "metadata": {
      "needs_background": "light"
     },
     "output_type": "display_data"
    }
   ],
   "source": [
    "#데이터 클래스별 길이 분포 확인\n",
    "\n",
    "fig, axes = plt.subplots(nrows=2, ncols=2, figsize=(15, 5))\n",
    "\n",
    "# Plot the histogram of sample lengths\n",
    "axes[0][0].hist([len(s) for s in train_data['conversation'][train_data['class']=='협박 대화']], bins=50)\n",
    "axes[0][0].set_xlabel('length of samples')\n",
    "axes[0][0].set_ylabel('number of samples')\n",
    "axes[0][0].set_title('협박 대화')\n",
    "\n",
    "axes[0][1].hist([len(s) for s in train_data['conversation'][train_data['class']=='갈취 대화']], bins=50)\n",
    "axes[0][1].set_xlabel('length of samples')\n",
    "axes[0][1].set_ylabel('number of samples')\n",
    "axes[0][1].set_title('갈취 대화')\n",
    "\n",
    "axes[1][0].hist([len(s) for s in train_data['conversation'][train_data['class']=='직장 내 괴롭힘 대화']], bins=50)\n",
    "axes[1][0].set_xlabel('length of samples')\n",
    "axes[1][0].set_ylabel('number of samples')\n",
    "axes[1][0].set_title('직장 내 괴롭힘 대화')\n",
    "\n",
    "axes[1][1].hist([len(s) for s in train_data['conversation'][train_data['class']=='기타 괴롭힘 대화']\n",
    "], bins=50)\n",
    "axes[1][1].set_xlabel('length of samples')\n",
    "axes[1][1].set_ylabel('number of samples')\n",
    "axes[1][1].set_title('기타 괴롭힘 대화')\n",
    "\n",
    "plt.subplots_adjust(wspace=0.3, hspace=0.5)\n",
    "plt.show()"
   ]
  },
  {
   "cell_type": "markdown",
   "id": "de26cb6a",
   "metadata": {},
   "source": [
    "### EDA 시작"
   ]
  },
  {
   "cell_type": "code",
   "execution_count": 10,
   "id": "d1adbf2c",
   "metadata": {},
   "outputs": [
    {
     "data": {
      "text/plain": [
       "'지금 너 스스로를 죽여달라고 애원하는 것인가?\\n 아닙니다. 죄송합니다.\\n 죽을 거면 혼자 죽지 우리까지 사건에 휘말리게 해? 진짜 죽여버리고 싶게.\\n 정말 잘못했습니다.\\n 너가 선택해. 너가 죽을래 네 가족을 죽여줄까.\\n 죄송합니다. 정말 잘못했습니다.\\n 너에게는 선택권이 없어. 선택 못한다면 너와 네 가족까지 모조리 죽여버릴거야.\\n 선택 못하겠습니다. 한번만 도와주세요.\\n 그냥 다 죽여버려야겠군. 이의 없지?\\n 제발 도와주세요.'"
      ]
     },
     "execution_count": 10,
     "metadata": {},
     "output_type": "execute_result"
    }
   ],
   "source": [
    "x_train[0]"
   ]
  },
  {
   "cell_type": "code",
   "execution_count": 11,
   "id": "eba25986",
   "metadata": {
    "scrolled": true
   },
   "outputs": [
    {
     "data": {
      "text/plain": [
       "'우와 00아 너 이번에 올라온 사진 정말 예쁘더라.\\n아 응 고마워!\\n그래서 그 사진 보고 너가 입은 옷이랑 립스틱 따라 사고 싶은데 어디 제품인지 알려줄 수 있을까 ? 나 정말 너 좋아해서 따라하고 사진 찍고 싶어.\\n어. 0000 여기 제품이야.\\n우와 봤는데 너무 비싼 것 같아. 어차피 사진 한 번만 찍을 껀데 둘 다 빌려주면 안될까?\\n아 그래. 빌려줄게.\\n그러면 빌려주는 김에 전전 피드에 올린 옷도 같이 빌려줘!\\n아 그거는 내가 사촌언니 이미 빌려줘서 못 빌려줄 것 같아.\\n그래? 근데 나 진짜 너무 궁금한데 언니한테 얼른 다시 받아서 빌려주면 안될까? 너 엄청 착하잖아. 믿어도 되는거지?!\\n알겠어.'"
      ]
     },
     "execution_count": 11,
     "metadata": {},
     "output_type": "execute_result"
    }
   ],
   "source": [
    "x_train[1000]"
   ]
  },
  {
   "cell_type": "markdown",
   "id": "9f7ca396",
   "metadata": {},
   "source": [
    "### EDA1: 대화 갯수가 너무 많은 것을 제거"
   ]
  },
  {
   "cell_type": "code",
   "execution_count": 12,
   "id": "28870da3",
   "metadata": {},
   "outputs": [
    {
     "data": {
      "image/png": "[encoded data removed]",
      "text/plain": [
       "<Figure size 720x432 with 1 Axes>"
      ]
     },
     "metadata": {
      "needs_background": "light"
     },
     "output_type": "display_data"
    }
   ],
   "source": [
    "# 'conversation' 컬럼의 데이터가 몇 행으로 이뤄져 있는지 확인\n",
    "conversation_lengths = x_train.str.split('\\n').str.len()\n",
    "\n",
    "# 데이터를 시각화\n",
    "plt.figure(figsize=(10,6))\n",
    "conversation_lengths.value_counts().sort_index().plot(kind='bar')\n",
    "plt.title('Conversation Lengths in train.csv')\n",
    "plt.xlabel('Number of Words in a Conversation')\n",
    "plt.ylabel('Frequency')\n",
    "plt.show()"
   ]
  },
  {
   "cell_type": "code",
   "execution_count": 13,
   "id": "ad50a194",
   "metadata": {},
   "outputs": [
    {
     "name": "stdout",
     "output_type": "stream",
     "text": [
      "Percentage of conversations with 6 or fewer sentences: 0.23%\n",
      "Percentage of conversations with 16 or more sentences: 0.68%\n"
     ]
    }
   ],
   "source": [
    "#대화갯수가 16개이상 6개 이하인것 수치화하기 & train data 데이터프레임에 대화갯수 붙이기\n",
    "train_data['conversation_length'] = x_train.str.split('\\n').str.len()\n",
    "less_than_or_equal_to_six = train_data[train_data['conversation_length'] <= 6].shape[0]\n",
    "\n",
    "# Count conversations with 16 or more sentences\n",
    "greater_than_or_equal_to_sixteen = train_data[train_data['conversation_length'] >= 16].shape[0]\n",
    "\n",
    "# Calculate the total number of conversations\n",
    "total_conversations = train_data.shape[0]\n",
    "\n",
    "# Calculate percentages\n",
    "percentage_less_than_six = (less_than_or_equal_to_six / total_conversations) * 100\n",
    "percentage_greater_than_sixteen = (greater_than_or_equal_to_sixteen / total_conversations) * 100\n",
    "\n",
    "# Print results\n",
    "print(f\"Percentage of conversations with 6 or fewer sentences: {percentage_less_than_six:.2f}%\")\n",
    "print(f\"Percentage of conversations with 16 or more sentences: {percentage_greater_than_sixteen:.2f}%\")"
   ]
  },
  {
   "cell_type": "code",
   "execution_count": 14,
   "id": "7197f644",
   "metadata": {},
   "outputs": [
    {
     "data": {
      "text/html": [
       "<div>\n",
       "<style scoped>\n",
       "    .dataframe tbody tr th:only-of-type {\n",
       "        vertical-align: middle;\n",
       "    }\n",
       "\n",
       "    .dataframe tbody tr th {\n",
       "        vertical-align: top;\n",
       "    }\n",
       "\n",
       "    .dataframe thead th {\n",
       "        text-align: right;\n",
       "    }\n",
       "</style>\n",
       "<table border=\"1\" class=\"dataframe\">\n",
       "  <thead>\n",
       "    <tr style=\"text-align: right;\">\n",
       "      <th></th>\n",
       "      <th>idx</th>\n",
       "      <th>class</th>\n",
       "      <th>conversation</th>\n",
       "      <th>conversation_length</th>\n",
       "    </tr>\n",
       "  </thead>\n",
       "  <tbody>\n",
       "    <tr>\n",
       "      <th>0</th>\n",
       "      <td>0</td>\n",
       "      <td>협박 대화</td>\n",
       "      <td>지금 너 스스로를 죽여달라고 애원하는 것인가?\\n 아닙니다. 죄송합니다.\\n 죽을 ...</td>\n",
       "      <td>10</td>\n",
       "    </tr>\n",
       "    <tr>\n",
       "      <th>1</th>\n",
       "      <td>1</td>\n",
       "      <td>협박 대화</td>\n",
       "      <td>길동경찰서입니다.\\n9시 40분 마트에 폭발물을 설치할거다.\\n네?\\n똑바로 들어 ...</td>\n",
       "      <td>10</td>\n",
       "    </tr>\n",
       "    <tr>\n",
       "      <th>2</th>\n",
       "      <td>2</td>\n",
       "      <td>기타 괴롭힘 대화</td>\n",
       "      <td>너 되게 귀여운거 알지? 나보다 작은 남자는 첨봤어.\\n그만해. 니들 놀리는거 재미...</td>\n",
       "      <td>10</td>\n",
       "    </tr>\n",
       "    <tr>\n",
       "      <th>3</th>\n",
       "      <td>3</td>\n",
       "      <td>갈취 대화</td>\n",
       "      <td>어이 거기\\n예??\\n너 말이야 너. 이리 오라고\\n무슨 일.\\n너 옷 좋아보인다?...</td>\n",
       "      <td>11</td>\n",
       "    </tr>\n",
       "    <tr>\n",
       "      <th>4</th>\n",
       "      <td>4</td>\n",
       "      <td>갈취 대화</td>\n",
       "      <td>저기요 혹시 날이 너무 뜨겁잖아요? 저희 회사에서 이 선크림 파는데 한 번 손등에 ...</td>\n",
       "      <td>12</td>\n",
       "    </tr>\n",
       "    <tr>\n",
       "      <th>...</th>\n",
       "      <td>...</td>\n",
       "      <td>...</td>\n",
       "      <td>...</td>\n",
       "      <td>...</td>\n",
       "    </tr>\n",
       "    <tr>\n",
       "      <th>3945</th>\n",
       "      <td>3945</td>\n",
       "      <td>기타 괴롭힘 대화</td>\n",
       "      <td>준하야 넌 대가리가 왜이렇게 크냐?\\n내 머리가 뭐.\\n밥먹으면 대가리만 크냐 너는...</td>\n",
       "      <td>11</td>\n",
       "    </tr>\n",
       "    <tr>\n",
       "      <th>3946</th>\n",
       "      <td>3946</td>\n",
       "      <td>갈취 대화</td>\n",
       "      <td>내가 지금 너 아들 김길준 데리고 있어. 살리고 싶으면 계좌에 1억만 보내\\n예.?...</td>\n",
       "      <td>10</td>\n",
       "    </tr>\n",
       "    <tr>\n",
       "      <th>3947</th>\n",
       "      <td>3947</td>\n",
       "      <td>직장 내 괴롭힘 대화</td>\n",
       "      <td>나는 씨 같은 사람 보면 참 신기하더라. 어떻게 저렇게 살지.\\n왜 그래. 들리겠어...</td>\n",
       "      <td>11</td>\n",
       "    </tr>\n",
       "    <tr>\n",
       "      <th>3948</th>\n",
       "      <td>3948</td>\n",
       "      <td>갈취 대화</td>\n",
       "      <td>누구맘대로 여기서 장사하래?\\n이게 무슨일입니까?\\n남의 구역에서 장사하려면 자릿세...</td>\n",
       "      <td>10</td>\n",
       "    </tr>\n",
       "    <tr>\n",
       "      <th>3949</th>\n",
       "      <td>3949</td>\n",
       "      <td>직장 내 괴롭힘 대화</td>\n",
       "      <td>희정씨\\n네?\\n주말에 시간이 넘쳐나나봐\\n갑자기 왜그러세요?\\n손이 빤짝빤짝 네일...</td>\n",
       "      <td>10</td>\n",
       "    </tr>\n",
       "  </tbody>\n",
       "</table>\n",
       "<p>3950 rows × 4 columns</p>\n",
       "</div>"
      ],
      "text/plain": [
       "       idx        class                                       conversation  \\\n",
       "0        0        협박 대화  지금 너 스스로를 죽여달라고 애원하는 것인가?\\n 아닙니다. 죄송합니다.\\n 죽을 ...   \n",
       "1        1        협박 대화  길동경찰서입니다.\\n9시 40분 마트에 폭발물을 설치할거다.\\n네?\\n똑바로 들어 ...   \n",
       "2        2    기타 괴롭힘 대화  너 되게 귀여운거 알지? 나보다 작은 남자는 첨봤어.\\n그만해. 니들 놀리는거 재미...   \n",
       "3        3        갈취 대화  어이 거기\\n예??\\n너 말이야 너. 이리 오라고\\n무슨 일.\\n너 옷 좋아보인다?...   \n",
       "4        4        갈취 대화  저기요 혹시 날이 너무 뜨겁잖아요? 저희 회사에서 이 선크림 파는데 한 번 손등에 ...   \n",
       "...    ...          ...                                                ...   \n",
       "3945  3945    기타 괴롭힘 대화  준하야 넌 대가리가 왜이렇게 크냐?\\n내 머리가 뭐.\\n밥먹으면 대가리만 크냐 너는...   \n",
       "3946  3946        갈취 대화  내가 지금 너 아들 김길준 데리고 있어. 살리고 싶으면 계좌에 1억만 보내\\n예.?...   \n",
       "3947  3947  직장 내 괴롭힘 대화  나는 씨 같은 사람 보면 참 신기하더라. 어떻게 저렇게 살지.\\n왜 그래. 들리겠어...   \n",
       "3948  3948        갈취 대화  누구맘대로 여기서 장사하래?\\n이게 무슨일입니까?\\n남의 구역에서 장사하려면 자릿세...   \n",
       "3949  3949  직장 내 괴롭힘 대화  희정씨\\n네?\\n주말에 시간이 넘쳐나나봐\\n갑자기 왜그러세요?\\n손이 빤짝빤짝 네일...   \n",
       "\n",
       "      conversation_length  \n",
       "0                      10  \n",
       "1                      10  \n",
       "2                      10  \n",
       "3                      11  \n",
       "4                      12  \n",
       "...                   ...  \n",
       "3945                   11  \n",
       "3946                   10  \n",
       "3947                   11  \n",
       "3948                   10  \n",
       "3949                   10  \n",
       "\n",
       "[3950 rows x 4 columns]"
      ]
     },
     "execution_count": 14,
     "metadata": {},
     "output_type": "execute_result"
    }
   ],
   "source": [
    "# 잘 붙여졌는지 확인\n",
    "train_data"
   ]
  },
  {
   "cell_type": "code",
   "execution_count": 15,
   "id": "63b1d393",
   "metadata": {},
   "outputs": [],
   "source": [
    "#16개이상인 행 삭제\n",
    "idx16 = train_data[train_data['conversation_length'] >= 16].index\n",
    "train_data.drop(idx16 , inplace=True)"
   ]
  },
  {
   "cell_type": "code",
   "execution_count": 16,
   "id": "af1a14a6",
   "metadata": {},
   "outputs": [],
   "source": [
    "#6개이하인 행 삭제\n",
    "idx6 = train_data[train_data['conversation_length'] <= 6].index\n",
    "train_data.drop(idx6 , inplace=True)"
   ]
  },
  {
   "cell_type": "code",
   "execution_count": 17,
   "id": "b1b9a892",
   "metadata": {},
   "outputs": [
    {
     "data": {
      "text/html": [
       "<div>\n",
       "<style scoped>\n",
       "    .dataframe tbody tr th:only-of-type {\n",
       "        vertical-align: middle;\n",
       "    }\n",
       "\n",
       "    .dataframe tbody tr th {\n",
       "        vertical-align: top;\n",
       "    }\n",
       "\n",
       "    .dataframe thead th {\n",
       "        text-align: right;\n",
       "    }\n",
       "</style>\n",
       "<table border=\"1\" class=\"dataframe\">\n",
       "  <thead>\n",
       "    <tr style=\"text-align: right;\">\n",
       "      <th></th>\n",
       "      <th>idx</th>\n",
       "      <th>class</th>\n",
       "      <th>conversation</th>\n",
       "      <th>conversation_length</th>\n",
       "    </tr>\n",
       "  </thead>\n",
       "  <tbody>\n",
       "    <tr>\n",
       "      <th>0</th>\n",
       "      <td>0</td>\n",
       "      <td>협박 대화</td>\n",
       "      <td>지금 너 스스로를 죽여달라고 애원하는 것인가?\\n 아닙니다. 죄송합니다.\\n 죽을 ...</td>\n",
       "      <td>10</td>\n",
       "    </tr>\n",
       "    <tr>\n",
       "      <th>1</th>\n",
       "      <td>1</td>\n",
       "      <td>협박 대화</td>\n",
       "      <td>길동경찰서입니다.\\n9시 40분 마트에 폭발물을 설치할거다.\\n네?\\n똑바로 들어 ...</td>\n",
       "      <td>10</td>\n",
       "    </tr>\n",
       "    <tr>\n",
       "      <th>2</th>\n",
       "      <td>2</td>\n",
       "      <td>기타 괴롭힘 대화</td>\n",
       "      <td>너 되게 귀여운거 알지? 나보다 작은 남자는 첨봤어.\\n그만해. 니들 놀리는거 재미...</td>\n",
       "      <td>10</td>\n",
       "    </tr>\n",
       "    <tr>\n",
       "      <th>3</th>\n",
       "      <td>3</td>\n",
       "      <td>갈취 대화</td>\n",
       "      <td>어이 거기\\n예??\\n너 말이야 너. 이리 오라고\\n무슨 일.\\n너 옷 좋아보인다?...</td>\n",
       "      <td>11</td>\n",
       "    </tr>\n",
       "    <tr>\n",
       "      <th>4</th>\n",
       "      <td>4</td>\n",
       "      <td>갈취 대화</td>\n",
       "      <td>저기요 혹시 날이 너무 뜨겁잖아요? 저희 회사에서 이 선크림 파는데 한 번 손등에 ...</td>\n",
       "      <td>12</td>\n",
       "    </tr>\n",
       "    <tr>\n",
       "      <th>...</th>\n",
       "      <td>...</td>\n",
       "      <td>...</td>\n",
       "      <td>...</td>\n",
       "      <td>...</td>\n",
       "    </tr>\n",
       "    <tr>\n",
       "      <th>3945</th>\n",
       "      <td>3945</td>\n",
       "      <td>기타 괴롭힘 대화</td>\n",
       "      <td>준하야 넌 대가리가 왜이렇게 크냐?\\n내 머리가 뭐.\\n밥먹으면 대가리만 크냐 너는...</td>\n",
       "      <td>11</td>\n",
       "    </tr>\n",
       "    <tr>\n",
       "      <th>3946</th>\n",
       "      <td>3946</td>\n",
       "      <td>갈취 대화</td>\n",
       "      <td>내가 지금 너 아들 김길준 데리고 있어. 살리고 싶으면 계좌에 1억만 보내\\n예.?...</td>\n",
       "      <td>10</td>\n",
       "    </tr>\n",
       "    <tr>\n",
       "      <th>3947</th>\n",
       "      <td>3947</td>\n",
       "      <td>직장 내 괴롭힘 대화</td>\n",
       "      <td>나는 씨 같은 사람 보면 참 신기하더라. 어떻게 저렇게 살지.\\n왜 그래. 들리겠어...</td>\n",
       "      <td>11</td>\n",
       "    </tr>\n",
       "    <tr>\n",
       "      <th>3948</th>\n",
       "      <td>3948</td>\n",
       "      <td>갈취 대화</td>\n",
       "      <td>누구맘대로 여기서 장사하래?\\n이게 무슨일입니까?\\n남의 구역에서 장사하려면 자릿세...</td>\n",
       "      <td>10</td>\n",
       "    </tr>\n",
       "    <tr>\n",
       "      <th>3949</th>\n",
       "      <td>3949</td>\n",
       "      <td>직장 내 괴롭힘 대화</td>\n",
       "      <td>희정씨\\n네?\\n주말에 시간이 넘쳐나나봐\\n갑자기 왜그러세요?\\n손이 빤짝빤짝 네일...</td>\n",
       "      <td>10</td>\n",
       "    </tr>\n",
       "  </tbody>\n",
       "</table>\n",
       "<p>3914 rows × 4 columns</p>\n",
       "</div>"
      ],
      "text/plain": [
       "       idx        class                                       conversation  \\\n",
       "0        0        협박 대화  지금 너 스스로를 죽여달라고 애원하는 것인가?\\n 아닙니다. 죄송합니다.\\n 죽을 ...   \n",
       "1        1        협박 대화  길동경찰서입니다.\\n9시 40분 마트에 폭발물을 설치할거다.\\n네?\\n똑바로 들어 ...   \n",
       "2        2    기타 괴롭힘 대화  너 되게 귀여운거 알지? 나보다 작은 남자는 첨봤어.\\n그만해. 니들 놀리는거 재미...   \n",
       "3        3        갈취 대화  어이 거기\\n예??\\n너 말이야 너. 이리 오라고\\n무슨 일.\\n너 옷 좋아보인다?...   \n",
       "4        4        갈취 대화  저기요 혹시 날이 너무 뜨겁잖아요? 저희 회사에서 이 선크림 파는데 한 번 손등에 ...   \n",
       "...    ...          ...                                                ...   \n",
       "3945  3945    기타 괴롭힘 대화  준하야 넌 대가리가 왜이렇게 크냐?\\n내 머리가 뭐.\\n밥먹으면 대가리만 크냐 너는...   \n",
       "3946  3946        갈취 대화  내가 지금 너 아들 김길준 데리고 있어. 살리고 싶으면 계좌에 1억만 보내\\n예.?...   \n",
       "3947  3947  직장 내 괴롭힘 대화  나는 씨 같은 사람 보면 참 신기하더라. 어떻게 저렇게 살지.\\n왜 그래. 들리겠어...   \n",
       "3948  3948        갈취 대화  누구맘대로 여기서 장사하래?\\n이게 무슨일입니까?\\n남의 구역에서 장사하려면 자릿세...   \n",
       "3949  3949  직장 내 괴롭힘 대화  희정씨\\n네?\\n주말에 시간이 넘쳐나나봐\\n갑자기 왜그러세요?\\n손이 빤짝빤짝 네일...   \n",
       "\n",
       "      conversation_length  \n",
       "0                      10  \n",
       "1                      10  \n",
       "2                      10  \n",
       "3                      11  \n",
       "4                      12  \n",
       "...                   ...  \n",
       "3945                   11  \n",
       "3946                   10  \n",
       "3947                   11  \n",
       "3948                   10  \n",
       "3949                   10  \n",
       "\n",
       "[3914 rows x 4 columns]"
      ]
     },
     "execution_count": 17,
     "metadata": {},
     "output_type": "execute_result"
    }
   ],
   "source": [
    "#제거되었는지 확인\n",
    "train_data"
   ]
  },
  {
   "cell_type": "markdown",
   "id": "5093e65f",
   "metadata": {},
   "source": [
    "### EDA1 진행 후 전체 데이터 분포 확인"
   ]
  },
  {
   "cell_type": "code",
   "execution_count": 18,
   "id": "7b10a7fc",
   "metadata": {},
   "outputs": [],
   "source": [
    "x_train = train_data['conversation']\n",
    "y_train = train_data['class']"
   ]
  },
  {
   "cell_type": "code",
   "execution_count": 19,
   "id": "ef48d81c",
   "metadata": {},
   "outputs": [
    {
     "name": "stdout",
     "output_type": "stream",
     "text": [
      "데이터 정보\n",
      "--------------------------------------------------\n",
      "x_train : (3914,)\n",
      "y_train : (3914,)\n",
      "label 종류: {'협박 대화', '기타 괴롭힘 대화', '직장 내 괴롭힘 대화', '갈취 대화'}\n",
      "--------------------------------------------------\n",
      "클래스의 수 : 4\n",
      "--------------------------------------------------\n",
      "훈련용 뉴스의 최대 길이 :874\n",
      "훈련용 뉴스의 평균 길이 :225.1412876852325\n"
     ]
    },
    {
     "data": {
      "image/png": "[encoded data removed]",
      "text/plain": [
       "<Figure size 1080x360 with 2 Axes>"
      ]
     },
     "metadata": {
      "needs_background": "light"
     },
     "output_type": "display_data"
    }
   ],
   "source": [
    "print('데이터 정보')\n",
    "print('-'*50)\n",
    "print('x_train :',x_train.shape)\n",
    "print('y_train :',y_train.shape)\n",
    "print('label 종류:', set(y_train))\n",
    "print('-'*50)\n",
    "num_classes = 4\n",
    "print('클래스의 수 : {}'.format(num_classes))\n",
    "print('-'*50)\n",
    "print('훈련용 뉴스의 최대 길이 :{}'.format(max(len(l) for l in x_train)))\n",
    "print('훈련용 뉴스의 평균 길이 :{}'.format(sum(map(len, x_train))/len(x_train)))\n",
    "\n",
    "# Create a figure with two subplots\n",
    "fig, axes = plt.subplots(nrows=1, ncols=2, figsize=(15, 5))\n",
    "\n",
    "# Plot the histogram of sample lengths\n",
    "axes[0].hist([len(s) for s in x_train], bins=50)\n",
    "axes[0].set_xlabel('length of samples')\n",
    "axes[0].set_ylabel('number of samples')\n",
    "axes[0].set_title('Sample Length Distribution')\n",
    "\n",
    "# Plot the count of each class\n",
    "sns.countplot(x=y_train, ax=axes[1])\n",
    "axes[1].set_title('Class Distribution')\n",
    "\n",
    "# Adjust layout\n",
    "plt.tight_layout()\n",
    "\n",
    "# Show the plots\n",
    "plt.show()"
   ]
  },
  {
   "cell_type": "code",
   "execution_count": 20,
   "id": "c1f89f63",
   "metadata": {},
   "outputs": [
    {
     "data": {
      "image/png": "[encoded data removed]",
      "text/plain": [
       "<Figure size 1080x360 with 4 Axes>"
      ]
     },
     "metadata": {
      "needs_background": "light"
     },
     "output_type": "display_data"
    }
   ],
   "source": [
    "#데이터 클래스별 길이 분포 확인\n",
    "\n",
    "fig, axes = plt.subplots(nrows=2, ncols=2, figsize=(15, 5))\n",
    "\n",
    "# Plot the histogram of sample lengths\n",
    "axes[0][0].hist([len(s) for s in train_data['conversation'][train_data['class']=='협박 대화']], bins=50)\n",
    "axes[0][0].set_xlabel('length of samples')\n",
    "axes[0][0].set_ylabel('number of samples')\n",
    "axes[0][0].set_title('협박 대화')\n",
    "\n",
    "axes[0][1].hist([len(s) for s in train_data['conversation'][train_data['class']=='갈취 대화']], bins=50)\n",
    "axes[0][1].set_xlabel('length of samples')\n",
    "axes[0][1].set_ylabel('number of samples')\n",
    "axes[0][1].set_title('갈취 대화')\n",
    "\n",
    "axes[1][0].hist([len(s) for s in train_data['conversation'][train_data['class']=='직장 내 괴롭힘 대화']], bins=50)\n",
    "axes[1][0].set_xlabel('length of samples')\n",
    "axes[1][0].set_ylabel('number of samples')\n",
    "axes[1][0].set_title('직장 내 괴롭힘 대화')\n",
    "\n",
    "axes[1][1].hist([len(s) for s in train_data['conversation'][train_data['class']=='기타 괴롭힘 대화']\n",
    "], bins=50)\n",
    "axes[1][1].set_xlabel('length of samples')\n",
    "axes[1][1].set_ylabel('number of samples')\n",
    "axes[1][1].set_title('기타 괴롭힘 대화')\n",
    "\n",
    "plt.subplots_adjust(wspace=0.3, hspace=0.5)\n",
    "plt.show()"
   ]
  },
  {
   "attachments": {
    "image.png": {
     "image/png": "[encoded data removed]"
    }
   },
   "cell_type": "markdown",
   "id": "4c7f7b9c",
   "metadata": {},
   "source": [
    "#### EDA1 시행 전 분포 데이터\n",
    "\n",
    "![image.png](attachment:image.png)\n",
    "\n",
    "\n",
    "- 협박대화에서 차이가 발생한 것을 볼 수 있음\n"
   ]
  },
  {
   "cell_type": "markdown",
   "id": "9c19bb73",
   "metadata": {},
   "source": [
    "### Mecab으로 형태소 토큰화"
   ]
  },
  {
   "cell_type": "code",
   "execution_count": 21,
   "id": "c378571d",
   "metadata": {},
   "outputs": [],
   "source": [
    "import re\n",
    "\n",
    "def preprocess_sentence(sentence, s_token=False, e_token=False):\n",
    "    sentence = sentence.lower().strip()\n",
    "\n",
    "    sentence = re.sub(r\"([?.!,])\", r\" \\1 \", sentence)\n",
    "    sentence = re.sub(r'[\" \"]+', \" \", sentence)\n",
    "    sentence = re.sub(r\"[^a-zA-Z가-힣?.!,]+\", \" \", sentence)\n",
    "\n",
    "    sentence = sentence.strip()\n",
    "\n",
    "    if s_token:\n",
    "        sentence = '<start> ' + sentence\n",
    "\n",
    "    if e_token:\n",
    "        sentence += ' <end>'\n",
    "    \n",
    "    return sentence"
   ]
  },
  {
   "cell_type": "code",
   "execution_count": 22,
   "id": "307bc517",
   "metadata": {},
   "outputs": [],
   "source": [
    "from konlpy.tag import Mecab\n",
    "m = Mecab()"
   ]
  },
  {
   "cell_type": "code",
   "execution_count": 23,
   "id": "4b714aae",
   "metadata": {},
   "outputs": [
    {
     "name": "stderr",
     "output_type": "stream",
     "text": [
      "100%|██████████| 3914/3914 [00:02<00:00, 1840.60it/s]\n"
     ]
    }
   ],
   "source": [
    "from tqdm import tqdm\n",
    "\n",
    "corpus_kor = list()\n",
    "for sentence_kor in tqdm(train_data['conversation']):\n",
    "    corpus_kor.append(m.morphs(sentence_kor))"
   ]
  },
  {
   "cell_type": "code",
   "execution_count": 24,
   "id": "535b4fd8",
   "metadata": {},
   "outputs": [
    {
     "name": "stdout",
     "output_type": "stream",
     "text": [
      "['어', '이', '초딩', '.', '이리', '와봐', '누구', '세요', '이리', '와', '보', '라고', '자식', '아', '.', '죽', '고', '싶', '냐', '왜', '이러', '세요', '확', '!', '죽', '을래', '?', '조용히', '이리', '안', '와', '?', '무서워요', '돈', '얼마', '있', '어', '.', '다', '내놔', '봐', '.', '저', '돈', '없', '어요', '씨발', '.', '죽', '을래', '.', '너', '어디', '살', '아', '.', '가진', '거', '다', '내놔', '봐', '.', '왜', '이러', '세요', '산', '에', '가', '서', '확', '묻', '어', '버리', '기', '전', '에', '호주머니', '에', '있', '는', '거', '다', '내놔', '이러', '지', '마세요']\n"
     ]
    }
   ],
   "source": [
    "print(corpus_kor[100])"
   ]
  },
  {
   "cell_type": "code",
   "execution_count": 25,
   "id": "6f3fca16",
   "metadata": {},
   "outputs": [
    {
     "name": "stdout",
     "output_type": "stream",
     "text": [
      "['지금', '너', '스스로', '를', '죽여', '달', '라고', '애원', '하', '는', '것', '인가', '?', '아닙니다', '.', '죄송', '합니다', '.', '죽', '을', '거', '면', '혼자', '죽', '지', '우리', '까지', '사건', '에', '휘말리', '게', '해', '?', '진짜', '죽여', '버리', '고', '싶', '게', '.', '정말', '잘못', '했', '습니다', '.', '너', '가', '선택', '해', '.', '너', '가', '죽', '을래', '네', '가족', '을', '죽여', '줄까', '.', '죄송', '합니다', '.', '정말', '잘못', '했', '습니다', '.', '너', '에게', '는', '선택', '권', '이', '없', '어', '.', '선택', '못', '한다면', '너', '와', '네', '가족', '까지', '모조리', '죽여', '버릴', '거', '야', '.', '선택', '못', '하', '겠', '습니다', '.', '한', '번', '만', '도와', '주', '세요', '.', '그냥', '다', '죽여', '버려야', '겠', '군', '.', '이', '의', '없', '지', '?', '제발', '도와', '주', '세요', '.']\n"
     ]
    }
   ],
   "source": [
    "print(corpus_kor[0])"
   ]
  },
  {
   "cell_type": "code",
   "execution_count": 26,
   "id": "54721344",
   "metadata": {},
   "outputs": [
    {
     "name": "stdout",
     "output_type": "stream",
     "text": [
      "['너', '네', '딸', '어디', '있', '어', '?', '누구', '시', '죠', '?', '너', '네', '딸', '이', '우리', '딸', '이렇게', '만들', '었', '다고', '!', '당장', '데려와', '그럴', '수', '는', '없', '는데', '?', '왜', '반말', '이', '냐', '갑자기', '?', '니', '가', '먼저', '반발', '했', '자', '나', '니', '딸', '칼', '로', '쑤셔', '버리', '전', '에', '알', '아서', '데려와', '미쳤', '나', '?', '당장', '신고', '할', '거', '야', '너', '죽', '고', '나', '죽', '어', '볼래', '?', '니', '딸', '데려와', '그렇게', '극단', '적', '으로', '나오', '지', '말', '고', '자세히', '상황', '을', '이야기', '하', '라고', '!', '됐', '고', '!', '니', '네', '딸', '이', '다', '잘못', '한', '거', '야', '.', '당장', '죽여', '버린다', '.']\n"
     ]
    }
   ],
   "source": [
    "print(corpus_kor[1000])"
   ]
  },
  {
   "cell_type": "markdown",
   "id": "6b71e238",
   "metadata": {},
   "source": [
    "### MODEL1: W2V 임베딩 훈련 (사전학습 X)"
   ]
  },
  {
   "cell_type": "code",
   "execution_count": 27,
   "id": "10062135",
   "metadata": {},
   "outputs": [],
   "source": [
    "from gensim.models import Word2Vec\n",
    "model = Word2Vec(sentences = corpus_kor, window = 5, min_count = 5, workers = 4, sg = 0)"
   ]
  },
  {
   "cell_type": "code",
   "execution_count": 28,
   "id": "398be537",
   "metadata": {},
   "outputs": [
    {
     "data": {
      "text/plain": [
       "(3948, 100)"
      ]
     },
     "execution_count": 28,
     "metadata": {},
     "output_type": "execute_result"
    }
   ],
   "source": [
    "# 완성된 임베딩 매트릭스의 크기 확인\n",
    "model.wv.vectors.shape"
   ]
  },
  {
   "cell_type": "code",
   "execution_count": 29,
   "id": "b046abf8",
   "metadata": {},
   "outputs": [
    {
     "name": "stdout",
     "output_type": "stream",
     "text": [
      "[('내려', 0.8263949751853943), ('빨리', 0.8176771402359009), ('꺼내', 0.7985612750053406), ('얼른', 0.792312741279602), ('계좌', 0.7921673655509949), ('놔', 0.7906913757324219), ('지워', 0.7815109491348267), ('가져올', 0.7733138799667358), ('가져와', 0.7717374563217163), ('열', 0.76850426197052)]\n"
     ]
    }
   ],
   "source": [
    "print(model.wv.most_similar(\"당장\"))"
   ]
  },
  {
   "cell_type": "code",
   "execution_count": 30,
   "id": "a808923b",
   "metadata": {},
   "outputs": [
    {
     "name": "stdout",
     "output_type": "stream",
     "text": [
      "[('버릴', 0.899513304233551), ('!!!!!!', 0.7823615074157715), ('버리', 0.7640684843063354), ('죽', 0.7563297748565674), ('으아아악', 0.7433202266693115), ('찔러', 0.7359890341758728), ('쏴', 0.7207920551300049), ('죽이', 0.7203294634819031), ('꺼져', 0.7164479494094849), ('헤어지', 0.7119991779327393)]\n"
     ]
    }
   ],
   "source": [
    "print(model.wv.most_similar(\"죽여\"))"
   ]
  },
  {
   "cell_type": "markdown",
   "id": "1bcc6ca5",
   "metadata": {},
   "source": [
    "### MODEL2: W2V 임베딩 훈련 (사전학습 O) - 박병규님 공개 모델 사용"
   ]
  },
  {
   "cell_type": "markdown",
   "id": "07adb9b9",
   "metadata": {},
   "source": [
    "#### 하단의 ko.bin 모델을 활용하려면 gensim의 버전이 3.8.3이여야함. 따라서 새롭게 설치해야하고 모델을 넣어야 돌아감.\n",
    "\n",
    "- pip install --upgrade gensim==3.8.3"
   ]
  },
  {
   "cell_type": "code",
   "execution_count": 31,
   "id": "797d6182",
   "metadata": {},
   "outputs": [
    {
     "name": "stdout",
     "output_type": "stream",
     "text": [
      "Requirement already satisfied: gensim==3.8.3 in /opt/conda/lib/python3.9/site-packages (3.8.3)\n",
      "Requirement already satisfied: smart-open>=1.8.1 in /opt/conda/lib/python3.9/site-packages (from gensim==3.8.3) (5.2.1)\n",
      "Requirement already satisfied: scipy>=0.18.1 in /opt/conda/lib/python3.9/site-packages (from gensim==3.8.3) (1.7.1)\n",
      "Requirement already satisfied: six>=1.5.0 in /opt/conda/lib/python3.9/site-packages (from gensim==3.8.3) (1.16.0)\n",
      "Requirement already satisfied: numpy>=1.11.3 in /opt/conda/lib/python3.9/site-packages (from gensim==3.8.3) (1.21.4)\n",
      "\u001b[33mWARNING: Running pip as the 'root' user can result in broken permissions and conflicting behaviour with the system package manager. It is recommended to use a virtual environment instead: https://pip.pypa.io/warnings/venv\u001b[0m\n"
     ]
    }
   ],
   "source": [
    "!pip install --upgrade gensim==3.8.3"
   ]
  },
  {
   "cell_type": "code",
   "execution_count": 32,
   "id": "6a22a496",
   "metadata": {},
   "outputs": [
    {
     "name": "stdout",
     "output_type": "stream",
     "text": [
      "gensim                        3.8.3\n",
      "Note: you may need to restart the kernel to use updated packages.\n"
     ]
    }
   ],
   "source": [
    "pip list | grep gensim"
   ]
  },
  {
   "cell_type": "code",
   "execution_count": 33,
   "id": "b67dc1e3",
   "metadata": {},
   "outputs": [],
   "source": [
    "#사전훈련된 모델을 바탕으로 임베딩 확인절차\n",
    "\n",
    "import gensim\n",
    "model2 = gensim.models.Word2Vec.load('~/aiffel/dktc/ko.bin')"
   ]
  },
  {
   "cell_type": "code",
   "execution_count": 34,
   "id": "7c9e5d58",
   "metadata": {},
   "outputs": [
    {
     "name": "stdout",
     "output_type": "stream",
     "text": [
      "[('혹시', 0.567952573299408), ('그럼', 0.5547995567321777), ('제발', 0.5506627559661865), ('차라리', 0.5439422130584717), ('어차피', 0.5346856117248535), ('자꾸', 0.5257523655891418), ('일단', 0.5212486982345581), ('ㅠㅠ', 0.4879918098449707), ('...', 0.48725324869155884), ('도대체', 0.4736603796482086)]\n"
     ]
    }
   ],
   "source": [
    "print(model2.wv.most_similar(\"당장\"))"
   ]
  },
  {
   "cell_type": "code",
   "execution_count": 35,
   "id": "fa99578b",
   "metadata": {},
   "outputs": [
    {
     "name": "stdout",
     "output_type": "stream",
     "text": [
      "[('아들', 0.8893565535545349), ('장녀', 0.792474627494812), ('외동딸', 0.7676130533218384), ('손녀', 0.7539598941802979), ('아내', 0.749483585357666), ('막내아들', 0.7352240681648254), ('동생', 0.7306786179542542), ('손자', 0.7284146547317505), ('사위', 0.728056788444519), ('외아들', 0.721908450126648)]\n"
     ]
    }
   ],
   "source": [
    "print(model2.wv.most_similar(\"딸\"))"
   ]
  },
  {
   "cell_type": "code",
   "execution_count": 36,
   "id": "930f3c71",
   "metadata": {},
   "outputs": [
    {
     "ename": "KeyError",
     "evalue": "\"word '죽여' not in vocabulary\"",
     "output_type": "error",
     "traceback": [
      "\u001b[0;31m---------------------------------------------------------------------------\u001b[0m",
      "\u001b[0;31mKeyError\u001b[0m                                  Traceback (most recent call last)",
      "\u001b[0;32m/tmp/ipykernel_355/1684578768.py\u001b[0m in \u001b[0;36m<module>\u001b[0;34m\u001b[0m\n\u001b[0;32m----> 1\u001b[0;31m \u001b[0mprint\u001b[0m\u001b[0;34m(\u001b[0m\u001b[0mmodel2\u001b[0m\u001b[0;34m.\u001b[0m\u001b[0mwv\u001b[0m\u001b[0;34m.\u001b[0m\u001b[0mmost_similar\u001b[0m\u001b[0;34m(\u001b[0m\u001b[0;34m\"죽여\"\u001b[0m\u001b[0;34m)\u001b[0m\u001b[0;34m)\u001b[0m\u001b[0;34m\u001b[0m\u001b[0;34m\u001b[0m\u001b[0m\n\u001b[0m",
      "\u001b[0;32m/opt/conda/lib/python3.9/site-packages/gensim/models/keyedvectors.py\u001b[0m in \u001b[0;36mmost_similar\u001b[0;34m(self, positive, negative, topn, restrict_vocab, indexer)\u001b[0m\n\u001b[1;32m    551\u001b[0m                 \u001b[0mmean\u001b[0m\u001b[0;34m.\u001b[0m\u001b[0mappend\u001b[0m\u001b[0;34m(\u001b[0m\u001b[0mweight\u001b[0m \u001b[0;34m*\u001b[0m \u001b[0mword\u001b[0m\u001b[0;34m)\u001b[0m\u001b[0;34m\u001b[0m\u001b[0;34m\u001b[0m\u001b[0m\n\u001b[1;32m    552\u001b[0m             \u001b[0;32melse\u001b[0m\u001b[0;34m:\u001b[0m\u001b[0;34m\u001b[0m\u001b[0;34m\u001b[0m\u001b[0m\n\u001b[0;32m--> 553\u001b[0;31m                 \u001b[0mmean\u001b[0m\u001b[0;34m.\u001b[0m\u001b[0mappend\u001b[0m\u001b[0;34m(\u001b[0m\u001b[0mweight\u001b[0m \u001b[0;34m*\u001b[0m \u001b[0mself\u001b[0m\u001b[0;34m.\u001b[0m\u001b[0mword_vec\u001b[0m\u001b[0;34m(\u001b[0m\u001b[0mword\u001b[0m\u001b[0;34m,\u001b[0m \u001b[0muse_norm\u001b[0m\u001b[0;34m=\u001b[0m\u001b[0;32mTrue\u001b[0m\u001b[0;34m)\u001b[0m\u001b[0;34m)\u001b[0m\u001b[0;34m\u001b[0m\u001b[0;34m\u001b[0m\u001b[0m\n\u001b[0m\u001b[1;32m    554\u001b[0m                 \u001b[0;32mif\u001b[0m \u001b[0mword\u001b[0m \u001b[0;32min\u001b[0m \u001b[0mself\u001b[0m\u001b[0;34m.\u001b[0m\u001b[0mvocab\u001b[0m\u001b[0;34m:\u001b[0m\u001b[0;34m\u001b[0m\u001b[0;34m\u001b[0m\u001b[0m\n\u001b[1;32m    555\u001b[0m                     \u001b[0mall_words\u001b[0m\u001b[0;34m.\u001b[0m\u001b[0madd\u001b[0m\u001b[0;34m(\u001b[0m\u001b[0mself\u001b[0m\u001b[0;34m.\u001b[0m\u001b[0mvocab\u001b[0m\u001b[0;34m[\u001b[0m\u001b[0mword\u001b[0m\u001b[0;34m]\u001b[0m\u001b[0;34m.\u001b[0m\u001b[0mindex\u001b[0m\u001b[0;34m)\u001b[0m\u001b[0;34m\u001b[0m\u001b[0;34m\u001b[0m\u001b[0m\n",
      "\u001b[0;32m/opt/conda/lib/python3.9/site-packages/gensim/models/keyedvectors.py\u001b[0m in \u001b[0;36mword_vec\u001b[0;34m(self, word, use_norm)\u001b[0m\n\u001b[1;32m    466\u001b[0m             \u001b[0;32mreturn\u001b[0m \u001b[0mresult\u001b[0m\u001b[0;34m\u001b[0m\u001b[0;34m\u001b[0m\u001b[0m\n\u001b[1;32m    467\u001b[0m         \u001b[0;32melse\u001b[0m\u001b[0;34m:\u001b[0m\u001b[0;34m\u001b[0m\u001b[0;34m\u001b[0m\u001b[0m\n\u001b[0;32m--> 468\u001b[0;31m             \u001b[0;32mraise\u001b[0m \u001b[0mKeyError\u001b[0m\u001b[0;34m(\u001b[0m\u001b[0;34m\"word '%s' not in vocabulary\"\u001b[0m \u001b[0;34m%\u001b[0m \u001b[0mword\u001b[0m\u001b[0;34m)\u001b[0m\u001b[0;34m\u001b[0m\u001b[0;34m\u001b[0m\u001b[0m\n\u001b[0m\u001b[1;32m    469\u001b[0m \u001b[0;34m\u001b[0m\u001b[0m\n\u001b[1;32m    470\u001b[0m     \u001b[0;32mdef\u001b[0m \u001b[0mget_vector\u001b[0m\u001b[0;34m(\u001b[0m\u001b[0mself\u001b[0m\u001b[0;34m,\u001b[0m \u001b[0mword\u001b[0m\u001b[0;34m)\u001b[0m\u001b[0;34m:\u001b[0m\u001b[0;34m\u001b[0m\u001b[0;34m\u001b[0m\u001b[0m\n",
      "\u001b[0;31mKeyError\u001b[0m: \"word '죽여' not in vocabulary\""
     ]
    }
   ],
   "source": [
    "print(model2.wv.most_similar(\"죽여\"))"
   ]
  },
  {
   "cell_type": "markdown",
   "id": "43adb866",
   "metadata": {},
   "source": [
    "### MODEL3: '죽여' 단어를 인식하지 못함. 따라서 박병규님 모델에 추가적으로 학습을 실시"
   ]
  },
  {
   "cell_type": "code",
   "execution_count": 37,
   "id": "1b6b4f43",
   "metadata": {},
   "outputs": [],
   "source": [
    "from gensim.models import Word2Vec, KeyedVectors\n",
    "\n",
    "tokenized_text = corpus_kor"
   ]
  },
  {
   "cell_type": "code",
   "execution_count": 38,
   "id": "74105b65",
   "metadata": {},
   "outputs": [],
   "source": [
    "#새로운 데이터로 모델만들기 \n",
    "\n",
    "model3 = Word2Vec(size=300, min_count=1)\n",
    " \n",
    "model3.build_vocab(tokenized_text)\n",
    " \n",
    "total_examples = model3.corpus_count"
   ]
  },
  {
   "cell_type": "code",
   "execution_count": 39,
   "id": "826bdaa0",
   "metadata": {},
   "outputs": [
    {
     "name": "stdout",
     "output_type": "stream",
     "text": [
      "3914\n",
      "3914\n"
     ]
    }
   ],
   "source": [
    "print(total_examples)\n",
    "print(len(corpus_kor))"
   ]
  },
  {
   "cell_type": "code",
   "execution_count": 40,
   "id": "c26a1753",
   "metadata": {},
   "outputs": [],
   "source": [
    "#모델2와 3 합치기\n",
    "# model2.vacb에서 model2.wv.vocab으로 코드 수정됨에 유의\n",
    "\n",
    "model3.build_vocab([list(model2.wv.vocab.keys())], update=True)"
   ]
  },
  {
   "cell_type": "code",
   "execution_count": 41,
   "id": "7044e11d",
   "metadata": {},
   "outputs": [],
   "source": [
    "#모델 저장\n",
    "model3.wv.save_word2vec_format(\"ko.bin.gz\", binary=False)"
   ]
  },
  {
   "cell_type": "code",
   "execution_count": 42,
   "id": "256c5ac1",
   "metadata": {},
   "outputs": [
    {
     "name": "stderr",
     "output_type": "stream",
     "text": [
      "/tmp/ipykernel_355/264595596.py:2: DeprecationWarning: Call to deprecated `iter` (Attribute will be removed in 4.0.0, use self.epochs instead).\n",
      "  model3.train(tokenized_text, total_examples=total_examples, epochs=model2.iter)\n"
     ]
    },
    {
     "data": {
      "text/plain": [
       "(2258971, 2261900)"
      ]
     },
     "execution_count": 42,
     "metadata": {},
     "output_type": "execute_result"
    }
   ],
   "source": [
    "#모델 훈련\n",
    "model3.train(tokenized_text, total_examples=total_examples, epochs=model2.iter)"
   ]
  },
  {
   "cell_type": "code",
   "execution_count": 43,
   "id": "087b59fe",
   "metadata": {},
   "outputs": [
    {
     "name": "stdout",
     "output_type": "stream",
     "text": [
      "[('조져', 0.8197402954101562), ('왁', 0.7809834480285645), ('확', 0.7778944969177246), ('버릴', 0.7724377512931824), ('찔러', 0.7671831846237183), ('질러', 0.7636071443557739), ('싹', 0.759360671043396), ('버린다', 0.7575302124023438), ('그어', 0.7464700937271118), ('원투', 0.7382707595825195)]\n"
     ]
    }
   ],
   "source": [
    "#model3 성능 확인\n",
    "\n",
    "print(model3.wv.most_similar('죽여'))"
   ]
  },
  {
   "attachments": {
    "image.png": {
     "image/png": "[encoded data removed]"
    }
   },
   "cell_type": "markdown",
   "id": "fa93c45e",
   "metadata": {},
   "source": [
    "#### model1에서 '죽여'의 결과와 비교\n",
    "\n",
    "![image.png](attachment:image.png)"
   ]
  },
  {
   "cell_type": "code",
   "execution_count": 44,
   "id": "4518765d",
   "metadata": {},
   "outputs": [
    {
     "name": "stdout",
     "output_type": "stream",
     "text": [
      "[('동생', 0.9146096706390381), ('아들', 0.9010252356529236), ('여친', 0.8958370089530945), ('이름', 0.8851038217544556), ('남편', 0.8705875277519226), ('약점', 0.8641102910041809), ('의견', 0.8313647508621216), ('세금', 0.8235561847686768), ('학창', 0.8219016790390015), ('인생', 0.8211867809295654)]\n"
     ]
    }
   ],
   "source": [
    "print(model3.wv.most_similar(\"딸\"))"
   ]
  },
  {
   "cell_type": "code",
   "execution_count": 45,
   "id": "647e0f08",
   "metadata": {},
   "outputs": [
    {
     "name": "stdout",
     "output_type": "stream",
     "text": [
      "[('놔', 0.8639937043190002), ('가져와', 0.8507119417190552), ('빨리', 0.8472075462341309), ('줄께', 0.838874340057373), ('내려', 0.8335870504379272), ('일단', 0.8305615186691284), ('줄게', 0.8272144794464111), ('가져다', 0.8152289390563965), ('와라', 0.8129942417144775), ('와', 0.8035273551940918)]\n"
     ]
    }
   ],
   "source": [
    "print(model3.wv.most_similar(\"당장\"))"
   ]
  },
  {
   "cell_type": "markdown",
   "id": "266a5922",
   "metadata": {},
   "source": [
    "- 확실히 그 전보다 유의어를 좀 더 잘 뽑아내는 느낌임."
   ]
  },
  {
   "cell_type": "code",
   "execution_count": 46,
   "id": "72fed1ce",
   "metadata": {},
   "outputs": [
    {
     "data": {
      "text/plain": [
       "30185"
      ]
     },
     "execution_count": 46,
     "metadata": {},
     "output_type": "execute_result"
    }
   ],
   "source": [
    "#모델2의 단어갯수\n",
    "len(model2.wv.vocab)"
   ]
  },
  {
   "cell_type": "code",
   "execution_count": 47,
   "id": "d696c0b4",
   "metadata": {},
   "outputs": [
    {
     "data": {
      "text/plain": [
       "37133"
      ]
     },
     "execution_count": 47,
     "metadata": {},
     "output_type": "execute_result"
    }
   ],
   "source": [
    "#모델3의 단어갯수\n",
    "len(model3.wv.vocab)"
   ]
  },
  {
   "cell_type": "code",
   "execution_count": 48,
   "id": "96cb2c34",
   "metadata": {},
   "outputs": [],
   "source": [
    "#합쳐진 모델 저장\n",
    "model3.save(\"ko_new.bin\")"
   ]
  },
  {
   "cell_type": "markdown",
   "id": "448eef32",
   "metadata": {},
   "source": [
    "### W2V finetunning 모델 활용"
   ]
  },
  {
   "cell_type": "code",
   "execution_count": 49,
   "id": "8a28d238",
   "metadata": {},
   "outputs": [],
   "source": [
    "w2vemb = model3"
   ]
  },
  {
   "cell_type": "code",
   "execution_count": 50,
   "id": "40ee8c95",
   "metadata": {},
   "outputs": [],
   "source": [
    "weights = w2vemb.wv.vectors\n",
    "vocab_size, embedding_dim = weights.shape\n",
    "word_index = {word: idx for idx, word in enumerate(w2vemb.wv.vocab.keys())}"
   ]
  },
  {
   "cell_type": "code",
   "execution_count": 51,
   "id": "09af474a",
   "metadata": {},
   "outputs": [],
   "source": [
    "from tensorflow.keras.preprocessing.sequence import pad_sequences\n",
    "\n",
    "# 사전에 정의된 word_index 사용\n",
    "\n",
    "# 토큰화된 텍스트 데이터를 정수 시퀀스로 변환\n",
    "sequences = [[word_index.get(word, 0) for word in text] for text in corpus_kor]\n",
    "\n",
    "# 패딩을 위한 최대 시퀀스 길이 설정\n",
    "max_sequence_length = 200  # 예시 값\n",
    "\n",
    "# 시퀀스 패딩\n",
    "x = pad_sequences(sequences, maxlen=max_sequence_length)"
   ]
  },
  {
   "cell_type": "markdown",
   "id": "7298579e",
   "metadata": {},
   "source": [
    "### 데이터 정수 인코딩 및 train, test 분류"
   ]
  },
  {
   "cell_type": "code",
   "execution_count": 52,
   "id": "a262633f",
   "metadata": {},
   "outputs": [],
   "source": [
    "label_to_int = {'협박 대화': 0, '갈취 대화': 1, '직장 내 괴롭힘 대화': 2, '기타 괴롭힘 대화':3}\n",
    "\n",
    "train_data['class'] = train_data['class'].map(label_to_int)"
   ]
  },
  {
   "cell_type": "code",
   "execution_count": 53,
   "id": "61738a59",
   "metadata": {},
   "outputs": [
    {
     "data": {
      "text/html": [
       "<div>\n",
       "<style scoped>\n",
       "    .dataframe tbody tr th:only-of-type {\n",
       "        vertical-align: middle;\n",
       "    }\n",
       "\n",
       "    .dataframe tbody tr th {\n",
       "        vertical-align: top;\n",
       "    }\n",
       "\n",
       "    .dataframe thead th {\n",
       "        text-align: right;\n",
       "    }\n",
       "</style>\n",
       "<table border=\"1\" class=\"dataframe\">\n",
       "  <thead>\n",
       "    <tr style=\"text-align: right;\">\n",
       "      <th></th>\n",
       "      <th>idx</th>\n",
       "      <th>class</th>\n",
       "      <th>conversation</th>\n",
       "      <th>conversation_length</th>\n",
       "    </tr>\n",
       "  </thead>\n",
       "  <tbody>\n",
       "    <tr>\n",
       "      <th>0</th>\n",
       "      <td>0</td>\n",
       "      <td>0</td>\n",
       "      <td>지금 너 스스로를 죽여달라고 애원하는 것인가?\\n 아닙니다. 죄송합니다.\\n 죽을 ...</td>\n",
       "      <td>10</td>\n",
       "    </tr>\n",
       "    <tr>\n",
       "      <th>1</th>\n",
       "      <td>1</td>\n",
       "      <td>0</td>\n",
       "      <td>길동경찰서입니다.\\n9시 40분 마트에 폭발물을 설치할거다.\\n네?\\n똑바로 들어 ...</td>\n",
       "      <td>10</td>\n",
       "    </tr>\n",
       "    <tr>\n",
       "      <th>2</th>\n",
       "      <td>2</td>\n",
       "      <td>3</td>\n",
       "      <td>너 되게 귀여운거 알지? 나보다 작은 남자는 첨봤어.\\n그만해. 니들 놀리는거 재미...</td>\n",
       "      <td>10</td>\n",
       "    </tr>\n",
       "    <tr>\n",
       "      <th>3</th>\n",
       "      <td>3</td>\n",
       "      <td>1</td>\n",
       "      <td>어이 거기\\n예??\\n너 말이야 너. 이리 오라고\\n무슨 일.\\n너 옷 좋아보인다?...</td>\n",
       "      <td>11</td>\n",
       "    </tr>\n",
       "    <tr>\n",
       "      <th>4</th>\n",
       "      <td>4</td>\n",
       "      <td>1</td>\n",
       "      <td>저기요 혹시 날이 너무 뜨겁잖아요? 저희 회사에서 이 선크림 파는데 한 번 손등에 ...</td>\n",
       "      <td>12</td>\n",
       "    </tr>\n",
       "  </tbody>\n",
       "</table>\n",
       "</div>"
      ],
      "text/plain": [
       "   idx  class                                       conversation  \\\n",
       "0    0      0  지금 너 스스로를 죽여달라고 애원하는 것인가?\\n 아닙니다. 죄송합니다.\\n 죽을 ...   \n",
       "1    1      0  길동경찰서입니다.\\n9시 40분 마트에 폭발물을 설치할거다.\\n네?\\n똑바로 들어 ...   \n",
       "2    2      3  너 되게 귀여운거 알지? 나보다 작은 남자는 첨봤어.\\n그만해. 니들 놀리는거 재미...   \n",
       "3    3      1  어이 거기\\n예??\\n너 말이야 너. 이리 오라고\\n무슨 일.\\n너 옷 좋아보인다?...   \n",
       "4    4      1  저기요 혹시 날이 너무 뜨겁잖아요? 저희 회사에서 이 선크림 파는데 한 번 손등에 ...   \n",
       "\n",
       "   conversation_length  \n",
       "0                   10  \n",
       "1                   10  \n",
       "2                   10  \n",
       "3                   11  \n",
       "4                   12  "
      ]
     },
     "execution_count": 53,
     "metadata": {},
     "output_type": "execute_result"
    }
   ],
   "source": [
    "train_data.head()"
   ]
  },
  {
   "cell_type": "code",
   "execution_count": 54,
   "id": "4c3660c3",
   "metadata": {},
   "outputs": [],
   "source": [
    "int_to_label = {0: '협박 대화', 1: '갈취 대화', 2: '직장 내 괴롭힘 대화', 3: '기타 괴롭힘 대화'}"
   ]
  },
  {
   "cell_type": "code",
   "execution_count": 55,
   "id": "ddc0256a",
   "metadata": {},
   "outputs": [],
   "source": [
    "# train da를 x,y로 분류\n",
    "\n",
    "X = train_data['conversation']\n",
    "y = train_data['class']"
   ]
  },
  {
   "cell_type": "code",
   "execution_count": 56,
   "id": "c238f89f",
   "metadata": {},
   "outputs": [],
   "source": [
    "#train, test, val 분류\n",
    "\n",
    "x_train, x_test, y_train, y_test = train_test_split(x, y, test_size=0.2, stratify=y)\n",
    "x_train, x_val, y_train, y_val = train_test_split(x_train, y_train, test_size=0.2, stratify=y_train)"
   ]
  },
  {
   "cell_type": "code",
   "execution_count": 57,
   "id": "21436713",
   "metadata": {},
   "outputs": [
    {
     "name": "stdout",
     "output_type": "stream",
     "text": [
      "[[   0    0    0 ...  502  593 2028]\n",
      " [   0    0    0 ...   55   37   14]\n",
      " [   0    0    0 ... 1437   58  185]\n",
      " ...\n",
      " [   0    0    0 ...   97   22   14]\n",
      " [  14   34   15 ...   41  159  159]\n",
      " [   0    0    0 ...    6  170   14]]\n"
     ]
    }
   ],
   "source": [
    "print(x_train)"
   ]
  },
  {
   "cell_type": "code",
   "execution_count": 58,
   "id": "663025f6",
   "metadata": {},
   "outputs": [
    {
     "name": "stdout",
     "output_type": "stream",
     "text": [
      "1940    3\n",
      "1568    2\n",
      "223     1\n",
      "2215    2\n",
      "10      1\n",
      "       ..\n",
      "3755    0\n",
      "1036    0\n",
      "125     3\n",
      "2293    1\n",
      "3293    3\n",
      "Name: class, Length: 2504, dtype: int64\n"
     ]
    }
   ],
   "source": [
    "print(y_train)"
   ]
  },
  {
   "cell_type": "markdown",
   "id": "22712a23",
   "metadata": {},
   "source": [
    "### LSTM 사용"
   ]
  },
  {
   "cell_type": "code",
   "execution_count": 59,
   "id": "feee6087",
   "metadata": {},
   "outputs": [],
   "source": [
    "from sklearn.model_selection import train_test_split\n",
    "from sklearn.preprocessing import LabelEncoder\n",
    "from tensorflow.keras.layers import Input, Embedding, Bidirectional, LSTM, MultiHeadAttention, Dropout, LayerNormalization, GlobalAveragePooling1D, Dense\n",
    "from tensorflow.keras.models import Model"
   ]
  },
  {
   "cell_type": "code",
   "execution_count": 60,
   "id": "807d3c51",
   "metadata": {
    "collapsed": true
   },
   "outputs": [
    {
     "name": "stdout",
     "output_type": "stream",
     "text": [
      "Epoch 1/15\n",
      "79/79 [==============================] - 43s 45ms/step - loss: 1.3260 - accuracy: 0.3702 - val_loss: 1.2557 - val_accuracy: 0.4402\n",
      "\n",
      "Epoch 00001: val_loss improved from inf to 1.25566, saving model to best_model_lstm_w2v.h5\n",
      "Epoch 2/15\n",
      "79/79 [==============================] - 2s 28ms/step - loss: 1.1978 - accuracy: 0.4816 - val_loss: 1.1811 - val_accuracy: 0.5215\n",
      "\n",
      "Epoch 00002: val_loss improved from 1.25566 to 1.18110, saving model to best_model_lstm_w2v.h5\n",
      "Epoch 3/15\n",
      "79/79 [==============================] - 2s 28ms/step - loss: 1.0776 - accuracy: 0.5547 - val_loss: 1.0798 - val_accuracy: 0.5630\n",
      "\n",
      "Epoch 00003: val_loss improved from 1.18110 to 1.07979, saving model to best_model_lstm_w2v.h5\n",
      "Epoch 4/15\n",
      "79/79 [==============================] - 2s 28ms/step - loss: 0.9582 - accuracy: 0.6246 - val_loss: 1.0627 - val_accuracy: 0.6013\n",
      "\n",
      "Epoch 00004: val_loss improved from 1.07979 to 1.06271, saving model to best_model_lstm_w2v.h5\n",
      "Epoch 5/15\n",
      "79/79 [==============================] - 2s 28ms/step - loss: 0.8332 - accuracy: 0.6705 - val_loss: 0.9279 - val_accuracy: 0.6427\n",
      "\n",
      "Epoch 00005: val_loss improved from 1.06271 to 0.92791, saving model to best_model_lstm_w2v.h5\n",
      "Epoch 6/15\n",
      "79/79 [==============================] - 2s 28ms/step - loss: 0.7579 - accuracy: 0.7029 - val_loss: 0.9908 - val_accuracy: 0.6093\n",
      "\n",
      "Epoch 00006: val_loss did not improve from 0.92791\n",
      "Epoch 7/15\n",
      "79/79 [==============================] - 2s 28ms/step - loss: 0.6729 - accuracy: 0.7568 - val_loss: 0.9794 - val_accuracy: 0.6077\n",
      "\n",
      "Epoch 00007: val_loss did not improve from 0.92791\n",
      "Epoch 8/15\n",
      "79/79 [==============================] - 2s 28ms/step - loss: 0.5374 - accuracy: 0.7991 - val_loss: 1.0001 - val_accuracy: 0.6523\n",
      "\n",
      "Epoch 00008: val_loss did not improve from 0.92791\n",
      "Epoch 9/15\n",
      "79/79 [==============================] - 2s 28ms/step - loss: 0.4416 - accuracy: 0.8311 - val_loss: 1.0551 - val_accuracy: 0.6380\n",
      "\n",
      "Epoch 00009: val_loss did not improve from 0.92791\n",
      "Epoch 10/15\n",
      "79/79 [==============================] - 2s 28ms/step - loss: 0.3746 - accuracy: 0.8646 - val_loss: 1.1788 - val_accuracy: 0.6380\n",
      "\n",
      "Epoch 00010: val_loss did not improve from 0.92791\n",
      "Epoch 11/15\n",
      "79/79 [==============================] - 2s 28ms/step - loss: 0.3017 - accuracy: 0.8834 - val_loss: 1.2345 - val_accuracy: 0.6284\n",
      "\n",
      "Epoch 00011: val_loss did not improve from 0.92791\n",
      "Epoch 12/15\n",
      "79/79 [==============================] - 2s 28ms/step - loss: 0.2280 - accuracy: 0.9189 - val_loss: 1.3468 - val_accuracy: 0.6603\n",
      "\n",
      "Epoch 00012: val_loss did not improve from 0.92791\n",
      "Epoch 13/15\n",
      "79/79 [==============================] - 2s 28ms/step - loss: 0.1774 - accuracy: 0.9369 - val_loss: 1.5618 - val_accuracy: 0.6443\n",
      "\n",
      "Epoch 00013: val_loss did not improve from 0.92791\n",
      "Epoch 14/15\n",
      "79/79 [==============================] - 2s 28ms/step - loss: 0.1332 - accuracy: 0.9549 - val_loss: 1.7269 - val_accuracy: 0.6396\n",
      "\n",
      "Epoch 00014: val_loss did not improve from 0.92791\n",
      "Epoch 15/15\n",
      "79/79 [==============================] - 2s 28ms/step - loss: 0.1574 - accuracy: 0.9437 - val_loss: 1.6911 - val_accuracy: 0.6268\n",
      "\n",
      "Epoch 00015: val_loss did not improve from 0.92791\n"
     ]
    },
    {
     "data": {
      "text/plain": [
       "<keras.callbacks.History at 0x7f470051f9d0>"
      ]
     },
     "execution_count": 60,
     "metadata": {},
     "output_type": "execute_result"
    }
   ],
   "source": [
    "from tensorflow.keras.callbacks import ModelCheckpoint\n",
    "\n",
    "sequence_input = Input(shape=(None,), dtype='int32')\n",
    "\n",
    "# 임베딩 레이어\n",
    "embedding_layer = Embedding(input_dim=vocab_size, output_dim=embedding_dim, weights=[weights], trainable=False)\n",
    "embedded_sequences = embedding_layer(sequence_input)\n",
    "\n",
    "# 양방향 LSTM 레이어 2개를 쌓음\n",
    "x = Bidirectional(LSTM(64, return_sequences=True))(embedded_sequences)  # 첫 번째 LSTM\n",
    "x = Bidirectional(LSTM(64))(x)  # 두 번째 LSTM\n",
    "\n",
    "# Dense 레이어\n",
    "x = Dense(64, activation='relu')(x)\n",
    "\n",
    "# 출력 레이어: 4개의 클래스에 대한 예측을 출력\n",
    "predictions = Dense(4, activation='softmax')(x)\n",
    "\n",
    "# 최종 모델 생성\n",
    "model = Model(sequence_input, predictions)\n",
    "\n",
    "optimizer = tf.keras.optimizers.Adam(learning_rate = 0.00459)\n",
    "\n",
    "model.compile(optimizer = optimizer,\n",
    "              loss = \"sparse_categorical_crossentropy\",\n",
    "              metrics = [\"accuracy\"])\n",
    "\n",
    "checkpoint = ModelCheckpoint(\n",
    "    'best_model_lstm_w2v.h5',  # file name where the model will be saved\n",
    "    monitor='val_loss',  # metric to monitor\n",
    "    save_best_only=True,  # only save the best model\n",
    "    verbose=1  # verbosity level\n",
    ")\n",
    "\n",
    "model.fit(x_train, y_train,\n",
    "          epochs = 15,\n",
    "          batch_size = 32,\n",
    "          validation_data = (x_val, y_val),\n",
    "          callbacks = [checkpoint])"
   ]
  },
  {
   "cell_type": "code",
   "execution_count": 71,
   "id": "9073849a",
   "metadata": {},
   "outputs": [
    {
     "name": "stdout",
     "output_type": "stream",
     "text": [
      "Epoch 1/15\n",
      "79/79 [==============================] - 8s 44ms/step - loss: 1.1616 - accuracy: 0.4685 - val_loss: 0.9222 - val_accuracy: 0.6077\n",
      "\n",
      "Epoch 00001: val_loss improved from inf to 0.92221, saving model to best_model_lstm.h5\n",
      "Epoch 2/15\n",
      "79/79 [==============================] - 2s 28ms/step - loss: 0.8266 - accuracy: 0.6442 - val_loss: 0.8681 - val_accuracy: 0.6268\n",
      "\n",
      "Epoch 00002: val_loss improved from 0.92221 to 0.86805, saving model to best_model_lstm.h5\n",
      "Epoch 3/15\n",
      "79/79 [==============================] - 2s 28ms/step - loss: 0.6172 - accuracy: 0.7256 - val_loss: 0.7806 - val_accuracy: 0.6603\n",
      "\n",
      "Epoch 00003: val_loss improved from 0.86805 to 0.78055, saving model to best_model_lstm.h5\n",
      "Epoch 4/15\n",
      "79/79 [==============================] - 2s 28ms/step - loss: 0.4376 - accuracy: 0.8191 - val_loss: 0.9183 - val_accuracy: 0.6970\n",
      "\n",
      "Epoch 00004: val_loss did not improve from 0.78055\n",
      "Epoch 5/15\n",
      "79/79 [==============================] - 2s 28ms/step - loss: 0.2637 - accuracy: 0.9069 - val_loss: 0.7418 - val_accuracy: 0.7879\n",
      "\n",
      "Epoch 00005: val_loss improved from 0.78055 to 0.74179, saving model to best_model_lstm.h5\n",
      "Epoch 6/15\n",
      "79/79 [==============================] - 2s 28ms/step - loss: 0.3160 - accuracy: 0.8918 - val_loss: 2.3178 - val_accuracy: 0.4370\n",
      "\n",
      "Epoch 00006: val_loss did not improve from 0.74179\n",
      "Epoch 7/15\n",
      "79/79 [==============================] - 2s 28ms/step - loss: 0.5346 - accuracy: 0.8311 - val_loss: 0.8880 - val_accuracy: 0.7289\n",
      "\n",
      "Epoch 00007: val_loss did not improve from 0.74179\n",
      "Epoch 8/15\n",
      "79/79 [==============================] - 2s 28ms/step - loss: 0.2037 - accuracy: 0.9401 - val_loss: 0.8347 - val_accuracy: 0.7576\n",
      "\n",
      "Epoch 00008: val_loss did not improve from 0.74179\n",
      "Epoch 9/15\n",
      "79/79 [==============================] - 2s 28ms/step - loss: 0.0984 - accuracy: 0.9685 - val_loss: 0.9136 - val_accuracy: 0.7767\n",
      "\n",
      "Epoch 00009: val_loss did not improve from 0.74179\n",
      "Epoch 10/15\n",
      "79/79 [==============================] - 2s 28ms/step - loss: 0.0392 - accuracy: 0.9884 - val_loss: 1.0093 - val_accuracy: 0.7895\n",
      "\n",
      "Epoch 00010: val_loss did not improve from 0.74179\n",
      "Epoch 11/15\n",
      "79/79 [==============================] - 2s 28ms/step - loss: 0.0307 - accuracy: 0.9920 - val_loss: 1.0112 - val_accuracy: 0.8070\n",
      "\n",
      "Epoch 00011: val_loss did not improve from 0.74179\n",
      "Epoch 12/15\n",
      "79/79 [==============================] - 2s 28ms/step - loss: 0.0305 - accuracy: 0.9920 - val_loss: 0.9724 - val_accuracy: 0.7943\n",
      "\n",
      "Epoch 00012: val_loss did not improve from 0.74179\n",
      "Epoch 13/15\n",
      "79/79 [==============================] - 2s 28ms/step - loss: 0.0356 - accuracy: 0.9912 - val_loss: 1.0323 - val_accuracy: 0.7735\n",
      "\n",
      "Epoch 00013: val_loss did not improve from 0.74179\n",
      "Epoch 14/15\n",
      "79/79 [==============================] - 2s 28ms/step - loss: 0.0390 - accuracy: 0.9900 - val_loss: 1.1472 - val_accuracy: 0.7671\n",
      "\n",
      "Epoch 00014: val_loss did not improve from 0.74179\n",
      "Epoch 15/15\n",
      "79/79 [==============================] - 2s 28ms/step - loss: 0.0622 - accuracy: 0.9820 - val_loss: 1.0690 - val_accuracy: 0.7528\n",
      "\n",
      "Epoch 00015: val_loss did not improve from 0.74179\n"
     ]
    },
    {
     "data": {
      "text/plain": [
       "<keras.callbacks.History at 0x7f4674a94d60>"
      ]
     },
     "execution_count": 71,
     "metadata": {},
     "output_type": "execute_result"
    }
   ],
   "source": [
    "from tensorflow.keras.callbacks import ModelCheckpoint\n",
    "\n",
    "sequence_input = Input(shape=(None,), dtype='int32')\n",
    "\n",
    "# 임베딩 레이어\n",
    "embedded_sequences = Embedding(10000, 64)(sequence_input)\n",
    "\n",
    "# 양방향 LSTM 레이어 2개를 쌓음\n",
    "x = Bidirectional(LSTM(64, return_sequences=True))(embedded_sequences)  # 첫 번째 LSTM\n",
    "x = Bidirectional(LSTM(64))(x)  # 두 번째 LSTM\n",
    "\n",
    "# Dense 레이어\n",
    "x = Dense(64, activation='relu')(x)\n",
    "\n",
    "# 출력 레이어: 4개의 클래스에 대한 예측을 출력\n",
    "predictions = Dense(4, activation='softmax')(x)\n",
    "\n",
    "# 최종 모델 생성\n",
    "model = Model(sequence_input, predictions)\n",
    "\n",
    "optimizer = tf.keras.optimizers.Adam(learning_rate = 0.00459)\n",
    "\n",
    "model.compile(optimizer = optimizer,\n",
    "              loss = \"sparse_categorical_crossentropy\",\n",
    "              metrics = [\"accuracy\"])\n",
    "\n",
    "checkpoint = ModelCheckpoint(\n",
    "    'best_model_lstm.h5',  # file name where the model will be saved\n",
    "    monitor='val_loss',  # metric to monitor\n",
    "    save_best_only=True,  # only save the best model\n",
    "    verbose=1  # verbosity level\n",
    ")\n",
    "\n",
    "model.fit(x_train, y_train,\n",
    "          epochs = 15,\n",
    "          batch_size = 32,\n",
    "          validation_data = (x_val, y_val),\n",
    "          callbacks = [checkpoint])"
   ]
  },
  {
   "cell_type": "markdown",
   "id": "fbc04d2f",
   "metadata": {},
   "source": [
    "- 서연님이 W&B를 통해 이미 최적의 파라미터를 찾았기에 조정없이 그대로 진행하였다."
   ]
  },
  {
   "cell_type": "code",
   "execution_count": 72,
   "id": "91b88d94",
   "metadata": {},
   "outputs": [],
   "source": [
    "# 최고 모델 다시 불러오기\n",
    "\n",
    "from tensorflow.keras.models import load_model\n",
    "\n",
    "loaded_model_lstm = load_model('best_model_lstm.h5')"
   ]
  },
  {
   "cell_type": "code",
   "execution_count": 62,
   "id": "87b7ade7",
   "metadata": {},
   "outputs": [
    {
     "data": {
      "text/html": [
       "<div>\n",
       "<style scoped>\n",
       "    .dataframe tbody tr th:only-of-type {\n",
       "        vertical-align: middle;\n",
       "    }\n",
       "\n",
       "    .dataframe tbody tr th {\n",
       "        vertical-align: top;\n",
       "    }\n",
       "\n",
       "    .dataframe thead th {\n",
       "        text-align: right;\n",
       "    }\n",
       "</style>\n",
       "<table border=\"1\" class=\"dataframe\">\n",
       "  <thead>\n",
       "    <tr style=\"text-align: right;\">\n",
       "      <th></th>\n",
       "      <th>text</th>\n",
       "    </tr>\n",
       "  </thead>\n",
       "  <tbody>\n",
       "    <tr>\n",
       "      <th>t_000</th>\n",
       "      <td>아가씨 담배한갑주소 네 4500원입니다 어 네 지갑어디갔지 에이 버스에서 잃어버렸나...</td>\n",
       "    </tr>\n",
       "    <tr>\n",
       "      <th>t_001</th>\n",
       "      <td>우리팀에서 다른팀으로 갈 사람 없나? 그럼 영지씨가 가는건 어때?  네? 제가요? ...</td>\n",
       "    </tr>\n",
       "    <tr>\n",
       "      <th>t_002</th>\n",
       "      <td>너 오늘 그게 뭐야 네 제가 뭘 잘못했나요.? 제대로 좀 하지 네 똑바로 좀 하지 ...</td>\n",
       "    </tr>\n",
       "    <tr>\n",
       "      <th>t_004</th>\n",
       "      <td>아무튼 앞으로 니가 내 와이파이야. .응 와이파이 온. 켰어. 반말? 주인님이라고도...</td>\n",
       "    </tr>\n",
       "    <tr>\n",
       "      <th>t_005</th>\n",
       "      <td>그러니까 빨리 말해. 선생님 제발 살려주십시오.  비밀번호 틀릴 때마다 손톱 하나씩...</td>\n",
       "    </tr>\n",
       "  </tbody>\n",
       "</table>\n",
       "</div>"
      ],
      "text/plain": [
       "                                                    text\n",
       "t_000  아가씨 담배한갑주소 네 4500원입니다 어 네 지갑어디갔지 에이 버스에서 잃어버렸나...\n",
       "t_001  우리팀에서 다른팀으로 갈 사람 없나? 그럼 영지씨가 가는건 어때?  네? 제가요? ...\n",
       "t_002  너 오늘 그게 뭐야 네 제가 뭘 잘못했나요.? 제대로 좀 하지 네 똑바로 좀 하지 ...\n",
       "t_004  아무튼 앞으로 니가 내 와이파이야. .응 와이파이 온. 켰어. 반말? 주인님이라고도...\n",
       "t_005  그러니까 빨리 말해. 선생님 제발 살려주십시오.  비밀번호 틀릴 때마다 손톱 하나씩..."
      ]
     },
     "execution_count": 62,
     "metadata": {},
     "output_type": "execute_result"
    }
   ],
   "source": [
    "# 테스트 데이터 전처리\n",
    "test_data = pd.read_json(\"~/aiffel/dktc/data/test.json\").transpose()\n",
    "test_data.head()"
   ]
  },
  {
   "cell_type": "code",
   "execution_count": 63,
   "id": "bb086d3e",
   "metadata": {},
   "outputs": [],
   "source": [
    "test_data_list = list()\n",
    "for sentence in test_data['text']:\n",
    "    sentence = preprocess_sentence(sentence)\n",
    "    sentence = m.morphs(sentence)\n",
    "    test_data_list.append(sentence)"
   ]
  },
  {
   "cell_type": "code",
   "execution_count": 65,
   "id": "6636fe39",
   "metadata": {},
   "outputs": [],
   "source": [
    "# 토큰화 후 정수 인코딩 하는 함수\n",
    "def tokenize(corpus, max_words=10000, max_len=200):\n",
    "    tokenizer = tf.keras.preprocessing.text.Tokenizer(num_words=max_words)\n",
    "    tokenizer.fit_on_texts(corpus)\n",
    "\n",
    "    tensor = tokenizer.texts_to_sequences(corpus)\n",
    "\n",
    "    tensor = tf.keras.preprocessing.sequence.pad_sequences(tensor, maxlen=max_len, padding='post')\n",
    "\n",
    "    return tensor, tokenizer"
   ]
  },
  {
   "cell_type": "code",
   "execution_count": 67,
   "id": "4796d21c",
   "metadata": {},
   "outputs": [],
   "source": [
    "X, tokenizer = tokenize(corpus_kor)"
   ]
  },
  {
   "cell_type": "code",
   "execution_count": 68,
   "id": "486a8123",
   "metadata": {},
   "outputs": [],
   "source": [
    "tensor = tokenizer.texts_to_sequences(test_data_list)\n",
    "tensor = tf.keras.preprocessing.sequence.pad_sequences(tensor, maxlen=200, padding='post')"
   ]
  },
  {
   "cell_type": "code",
   "execution_count": 69,
   "id": "07b57326",
   "metadata": {},
   "outputs": [
    {
     "data": {
      "text/plain": [
       "['아가씨 담배 한갑 주소 네 원 입니다 어 네 지갑 어디 갔 지 에이 버스 에서 잃어버렸 나 보 네 그럼 취소 할까요 아가씨 내 여기 단골 이 니 담 에 갖 다 줄께 저 도 알 바 생 이 라 외상 안 됩니다 아따 누가 떼먹 는다고 그러 나 갖 다 준다고 안 됩니다 자꾸 이럼 경찰 불러요 아가씨 담배 피 그건 왜 물으 세요 아가씨 담배 한 대 만 빌립시다 내 지금 지갑 도 잃 어 버리 고 기분 이 그래서 그러 니 여기 요 아따 주 는 김 에 한 개 더 주 면 되 겠 네']"
      ]
     },
     "execution_count": 69,
     "metadata": {},
     "output_type": "execute_result"
    }
   ],
   "source": [
    "tokenizer.sequences_to_texts([tensor[0]])"
   ]
  },
  {
   "cell_type": "code",
   "execution_count": 73,
   "id": "4dfb658c",
   "metadata": {},
   "outputs": [],
   "source": [
    "# 토큰화된 텍스트 데이터를 정수 시퀀스로 변환\n",
    "test_sequences = [[word_index.get(word, 0) for word in text] for text in test_data_list]\n",
    "\n",
    "\n",
    "# 시퀀스 패딩\n",
    "test_sequences = pad_sequences(test_sequences, maxlen=max_sequence_length)"
   ]
  },
  {
   "cell_type": "code",
   "execution_count": 74,
   "id": "ce00f40c",
   "metadata": {},
   "outputs": [],
   "source": [
    "pred = np.argmax(loaded_model_lstm.predict(test_sequences), axis=1)"
   ]
  },
  {
   "cell_type": "code",
   "execution_count": 75,
   "id": "cb83d9a1",
   "metadata": {},
   "outputs": [
    {
     "data": {
      "text/plain": [
       "400"
      ]
     },
     "execution_count": 75,
     "metadata": {},
     "output_type": "execute_result"
    }
   ],
   "source": [
    "len(pred)"
   ]
  },
  {
   "cell_type": "code",
   "execution_count": 81,
   "id": "af5cf376",
   "metadata": {},
   "outputs": [],
   "source": [
    "submission_w2v_LSTM3 = test_data.copy()\n",
    "submission_w2v_LSTM3['class'] = pred\n",
    "submission_w2v_LSTM3 = submission_w2v_LSTM3['class']\n",
    "submission_w2v_LSTM3.to_csv('submission_w2v_LSTM3.csv')"
   ]
  },
  {
   "cell_type": "markdown",
   "id": "d90129ec",
   "metadata": {},
   "source": [
    "### transfomer 사용"
   ]
  },
  {
   "cell_type": "code",
   "execution_count": 83,
   "id": "ce835b31",
   "metadata": {},
   "outputs": [
    {
     "name": "stdout",
     "output_type": "stream",
     "text": [
      "Epoch 1/20\n",
      "79/79 [==============================] - 2s 18ms/step - loss: 1.1440 - accuracy: 0.4700 - val_loss: 0.8835 - val_accuracy: 0.6029\n",
      "\n",
      "Epoch 00001: val_loss improved from inf to 0.88352, saving model to best_model_tr.h5\n",
      "Epoch 2/20\n",
      "79/79 [==============================] - 1s 15ms/step - loss: 0.3481 - accuracy: 0.8810 - val_loss: 0.4837 - val_accuracy: 0.8533\n",
      "\n",
      "Epoch 00002: val_loss improved from 0.88352 to 0.48372, saving model to best_model_tr.h5\n",
      "Epoch 3/20\n",
      "79/79 [==============================] - 1s 15ms/step - loss: 0.1007 - accuracy: 0.9748 - val_loss: 0.5685 - val_accuracy: 0.8341\n",
      "\n",
      "Epoch 00003: val_loss did not improve from 0.48372\n",
      "Epoch 4/20\n",
      "79/79 [==============================] - 1s 15ms/step - loss: 0.0395 - accuracy: 0.9896 - val_loss: 0.6311 - val_accuracy: 0.8198\n",
      "\n",
      "Epoch 00004: val_loss did not improve from 0.48372\n",
      "Epoch 5/20\n",
      "79/79 [==============================] - 1s 15ms/step - loss: 0.0447 - accuracy: 0.9860 - val_loss: 0.9484 - val_accuracy: 0.8134\n",
      "\n",
      "Epoch 00005: val_loss did not improve from 0.48372\n",
      "Epoch 6/20\n",
      "79/79 [==============================] - 1s 15ms/step - loss: 0.0207 - accuracy: 0.9936 - val_loss: 0.7938 - val_accuracy: 0.8341\n",
      "\n",
      "Epoch 00006: val_loss did not improve from 0.48372\n",
      "Epoch 7/20\n",
      "79/79 [==============================] - 1s 15ms/step - loss: 0.0090 - accuracy: 0.9976 - val_loss: 0.8143 - val_accuracy: 0.8405\n",
      "\n",
      "Epoch 00007: val_loss did not improve from 0.48372\n",
      "Epoch 8/20\n",
      "79/79 [==============================] - 1s 15ms/step - loss: 0.0031 - accuracy: 0.9996 - val_loss: 0.8982 - val_accuracy: 0.8501\n",
      "\n",
      "Epoch 00008: val_loss did not improve from 0.48372\n",
      "Epoch 9/20\n",
      "79/79 [==============================] - 1s 15ms/step - loss: 0.0025 - accuracy: 0.9996 - val_loss: 0.9455 - val_accuracy: 0.8357\n",
      "\n",
      "Epoch 00009: val_loss did not improve from 0.48372\n",
      "Epoch 10/20\n",
      "79/79 [==============================] - 1s 15ms/step - loss: 0.0015 - accuracy: 0.9996 - val_loss: 0.9964 - val_accuracy: 0.8373\n",
      "\n",
      "Epoch 00010: val_loss did not improve from 0.48372\n",
      "Epoch 11/20\n",
      "79/79 [==============================] - 1s 15ms/step - loss: 0.0026 - accuracy: 0.9996 - val_loss: 0.9358 - val_accuracy: 0.8485\n",
      "\n",
      "Epoch 00011: val_loss did not improve from 0.48372\n",
      "Epoch 12/20\n",
      "79/79 [==============================] - 1s 15ms/step - loss: 0.0014 - accuracy: 0.9996 - val_loss: 0.9499 - val_accuracy: 0.8533\n",
      "\n",
      "Epoch 00012: val_loss did not improve from 0.48372\n",
      "Epoch 13/20\n",
      "79/79 [==============================] - 1s 15ms/step - loss: 0.0014 - accuracy: 0.9992 - val_loss: 0.9516 - val_accuracy: 0.8517\n",
      "\n",
      "Epoch 00013: val_loss did not improve from 0.48372\n",
      "Epoch 14/20\n",
      "79/79 [==============================] - 1s 15ms/step - loss: 0.0024 - accuracy: 0.9996 - val_loss: 0.9900 - val_accuracy: 0.8453\n",
      "\n",
      "Epoch 00014: val_loss did not improve from 0.48372\n",
      "Epoch 15/20\n",
      "79/79 [==============================] - 1s 15ms/step - loss: 0.0020 - accuracy: 0.9996 - val_loss: 0.9886 - val_accuracy: 0.8533\n",
      "\n",
      "Epoch 00015: val_loss did not improve from 0.48372\n",
      "Epoch 16/20\n",
      "79/79 [==============================] - 1s 15ms/step - loss: 4.4932e-04 - accuracy: 0.9996 - val_loss: 1.0223 - val_accuracy: 0.8533\n",
      "\n",
      "Epoch 00016: val_loss did not improve from 0.48372\n",
      "Epoch 17/20\n",
      "79/79 [==============================] - 1s 15ms/step - loss: 9.2461e-04 - accuracy: 0.9996 - val_loss: 1.0109 - val_accuracy: 0.8533\n",
      "\n",
      "Epoch 00017: val_loss did not improve from 0.48372\n",
      "Epoch 18/20\n",
      "79/79 [==============================] - 1s 15ms/step - loss: 4.1124e-04 - accuracy: 0.9996 - val_loss: 1.0525 - val_accuracy: 0.8485\n",
      "\n",
      "Epoch 00018: val_loss did not improve from 0.48372\n",
      "Epoch 19/20\n",
      "79/79 [==============================] - 1s 15ms/step - loss: 4.7363e-04 - accuracy: 0.9996 - val_loss: 1.0390 - val_accuracy: 0.8485\n",
      "\n",
      "Epoch 00019: val_loss did not improve from 0.48372\n",
      "Epoch 20/20\n",
      "79/79 [==============================] - 1s 15ms/step - loss: 1.7947e-04 - accuracy: 1.0000 - val_loss: 1.0591 - val_accuracy: 0.8501\n",
      "\n",
      "Epoch 00020: val_loss did not improve from 0.48372\n"
     ]
    },
    {
     "data": {
      "text/plain": [
       "<keras.callbacks.History at 0x7f4664f105b0>"
      ]
     },
     "execution_count": 83,
     "metadata": {},
     "output_type": "execute_result"
    }
   ],
   "source": [
    "from tensorflow.keras.callbacks import ModelCheckpoint\n",
    "\n",
    "# 모델의 입력 정의\n",
    "sequence_input = Input(shape=(200,), dtype='int32')\n",
    "\n",
    "# 임베딩 레이어\n",
    "embedded_sequences = Embedding(10000, 64)(sequence_input)\n",
    "\n",
    "# 트랜스포머 블록\n",
    "# 멀티 헤드 어텐션\n",
    "attention_output = MultiHeadAttention(num_heads=8, key_dim=64)(embedded_sequences, embedded_sequences)\n",
    "attention_output = Dropout(0.1)(attention_output)\n",
    "attention_output = LayerNormalization(epsilon=1e-6)(embedded_sequences + attention_output)\n",
    "\n",
    "# 피드포워드 네트워크\n",
    "ffn_output = Dense(64, activation='relu')(attention_output)\n",
    "ffn_output = Dropout(0.1)(ffn_output)\n",
    "sequence_output = LayerNormalization(epsilon=1e-6)(attention_output + ffn_output)\n",
    "\n",
    "# 글로벌 평균 풀링을 사용하여 시퀀스 차원을 축소\n",
    "pooled_output = GlobalAveragePooling1D()(sequence_output)\n",
    "\n",
    "# Dense 레이어\n",
    "x = Dense(64, activation='relu')(pooled_output)\n",
    "\n",
    "# 출력 레이어: 4개의 클래스에 대한 예측을 출력\n",
    "predictions = Dense(4, activation='softmax')(x)\n",
    "\n",
    "# 최종 모델 생성\n",
    "model_tr = Model(sequence_input, predictions)\n",
    "\n",
    "optimizer = tf.keras.optimizers.Adam(learning_rate = 0.0037848)\n",
    "\n",
    "model_tr.compile(optimizer = optimizer,\n",
    "              loss = \"sparse_categorical_crossentropy\",\n",
    "              metrics = [\"accuracy\"])\n",
    "\n",
    "checkpoint = ModelCheckpoint(\n",
    "    'best_model_tr.h5',  # file name where the model will be saved\n",
    "    monitor='val_loss',  # metric to monitor\n",
    "    save_best_only=True,  # only save the best model\n",
    "    verbose=1  # verbosity level\n",
    ")\n",
    "\n",
    "\n",
    "model_tr.fit(x_train, y_train,\n",
    "          epochs = 20,\n",
    "          batch_size = 32,\n",
    "          validation_data = (x_val, y_val),\n",
    "          callbacks = [checkpoint])"
   ]
  },
  {
   "cell_type": "code",
   "execution_count": 84,
   "id": "69ed6141",
   "metadata": {},
   "outputs": [],
   "source": [
    "from tensorflow.keras.models import load_model\n",
    "\n",
    "loaded_model_tr = load_model('best_model_tr.h5')"
   ]
  },
  {
   "cell_type": "code",
   "execution_count": 85,
   "id": "b7bcc462",
   "metadata": {},
   "outputs": [],
   "source": [
    "# 토큰화된 텍스트 데이터를 정수 시퀀스로 변환\n",
    "test_sequences = [[word_index.get(word, 0) for word in text] for text in test_data_list]\n",
    "\n",
    "\n",
    "# 시퀀스 패딩\n",
    "test_sequences = pad_sequences(test_sequences, maxlen=max_sequence_length)"
   ]
  },
  {
   "cell_type": "code",
   "execution_count": 89,
   "id": "9a4b5243",
   "metadata": {},
   "outputs": [],
   "source": [
    "pred = np.argmax(loaded_model_tr.predict(test_sequences), axis=1)"
   ]
  },
  {
   "cell_type": "code",
   "execution_count": 90,
   "id": "0f3ea188",
   "metadata": {},
   "outputs": [
    {
     "data": {
      "text/plain": [
       "400"
      ]
     },
     "execution_count": 90,
     "metadata": {},
     "output_type": "execute_result"
    }
   ],
   "source": [
    "len(pred)"
   ]
  },
  {
   "cell_type": "code",
   "execution_count": 91,
   "id": "1085b1ba",
   "metadata": {},
   "outputs": [],
   "source": [
    "submission_w2v_tr3 = test_data.copy()\n",
    "submission_w2v_tr3['class'] = pred\n",
    "submission_w2v_tr3 = submission_w2v_tr3['class']\n",
    "submission_w2v_tr3.to_csv('submission_w2v_tr3.csv')"
   ]
  }
 ],
 "metadata": {
  "kernelspec": {
   "display_name": "Python 3 (ipykernel)",
   "language": "python",
   "name": "python3"
  },
  "language_info": {
   "codemirror_mode": {
    "name": "ipython",
    "version": 3
   },
   "file_extension": ".py",
   "mimetype": "text/x-python",
   "name": "python",
   "nbconvert_exporter": "python",
   "pygments_lexer": "ipython3",
   "version": "3.9.7"
  }
 },
 "nbformat": 4,
 "nbformat_minor": 5
}
