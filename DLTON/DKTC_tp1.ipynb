{
 "cells": [
  {
   "cell_type": "code",
   "execution_count": 1,
   "id": "8d18163f",
   "metadata": {},
   "outputs": [],
   "source": [
    "#라이브러리 임포트\n",
    "import pandas as pd\n",
    "import tensorflow as tf\n",
    "from tensorflow import keras\n",
    "from sklearn.model_selection import train_test_split\n",
    "import wandb\n",
    "from wandb.keras import WandbCallback\n",
    "from sklearn.preprocessing import LabelEncoder"
   ]
  },
  {
   "cell_type": "markdown",
   "id": "5f72b15b",
   "metadata": {},
   "source": [
    "W&B 커널에 설치하는 코드\n",
    "- pip install wandb==0.16.0"
   ]
  },
  {
   "cell_type": "code",
   "execution_count": 3,
   "id": "734cebb2",
   "metadata": {
    "scrolled": true
   },
   "outputs": [
    {
     "data": {
      "text/html": [
       "<div>\n",
       "<style scoped>\n",
       "    .dataframe tbody tr th:only-of-type {\n",
       "        vertical-align: middle;\n",
       "    }\n",
       "\n",
       "    .dataframe tbody tr th {\n",
       "        vertical-align: top;\n",
       "    }\n",
       "\n",
       "    .dataframe thead th {\n",
       "        text-align: right;\n",
       "    }\n",
       "</style>\n",
       "<table border=\"1\" class=\"dataframe\">\n",
       "  <thead>\n",
       "    <tr style=\"text-align: right;\">\n",
       "      <th></th>\n",
       "      <th>idx</th>\n",
       "      <th>class</th>\n",
       "      <th>conversation</th>\n",
       "    </tr>\n",
       "  </thead>\n",
       "  <tbody>\n",
       "    <tr>\n",
       "      <th>0</th>\n",
       "      <td>0</td>\n",
       "      <td>협박 대화</td>\n",
       "      <td>지금 너 스스로를 죽여달라고 애원하는 것인가?\\n 아닙니다. 죄송합니다.\\n 죽을 ...</td>\n",
       "    </tr>\n",
       "    <tr>\n",
       "      <th>1</th>\n",
       "      <td>1</td>\n",
       "      <td>협박 대화</td>\n",
       "      <td>길동경찰서입니다.\\n9시 40분 마트에 폭발물을 설치할거다.\\n네?\\n똑바로 들어 ...</td>\n",
       "    </tr>\n",
       "    <tr>\n",
       "      <th>2</th>\n",
       "      <td>2</td>\n",
       "      <td>기타 괴롭힘 대화</td>\n",
       "      <td>너 되게 귀여운거 알지? 나보다 작은 남자는 첨봤어.\\n그만해. 니들 놀리는거 재미...</td>\n",
       "    </tr>\n",
       "    <tr>\n",
       "      <th>3</th>\n",
       "      <td>3</td>\n",
       "      <td>갈취 대화</td>\n",
       "      <td>어이 거기\\n예??\\n너 말이야 너. 이리 오라고\\n무슨 일.\\n너 옷 좋아보인다?...</td>\n",
       "    </tr>\n",
       "    <tr>\n",
       "      <th>4</th>\n",
       "      <td>4</td>\n",
       "      <td>갈취 대화</td>\n",
       "      <td>저기요 혹시 날이 너무 뜨겁잖아요? 저희 회사에서 이 선크림 파는데 한 번 손등에 ...</td>\n",
       "    </tr>\n",
       "  </tbody>\n",
       "</table>\n",
       "</div>"
      ],
      "text/plain": [
       "   idx      class                                       conversation\n",
       "0    0      협박 대화  지금 너 스스로를 죽여달라고 애원하는 것인가?\\n 아닙니다. 죄송합니다.\\n 죽을 ...\n",
       "1    1      협박 대화  길동경찰서입니다.\\n9시 40분 마트에 폭발물을 설치할거다.\\n네?\\n똑바로 들어 ...\n",
       "2    2  기타 괴롭힘 대화  너 되게 귀여운거 알지? 나보다 작은 남자는 첨봤어.\\n그만해. 니들 놀리는거 재미...\n",
       "3    3      갈취 대화  어이 거기\\n예??\\n너 말이야 너. 이리 오라고\\n무슨 일.\\n너 옷 좋아보인다?...\n",
       "4    4      갈취 대화  저기요 혹시 날이 너무 뜨겁잖아요? 저희 회사에서 이 선크림 파는데 한 번 손등에 ..."
      ]
     },
     "execution_count": 3,
     "metadata": {},
     "output_type": "execute_result"
    }
   ],
   "source": [
    "#train 데이터 불러오기 및 확인\n",
    "train_data_path =\"~/aiffel/dktc/data/train.csv\"\n",
    "train_data = pd.read_csv(train_data_path)\n",
    "train_data.head()"
   ]
  },
  {
   "cell_type": "markdown",
   "id": "37b44057",
   "metadata": {},
   "source": [
    "### 기본적인 데이터 확인1"
   ]
  },
  {
   "cell_type": "code",
   "execution_count": 14,
   "id": "1f916edd",
   "metadata": {},
   "outputs": [
    {
     "name": "stdout",
     "output_type": "stream",
     "text": [
      "class\n",
      "갈취 대화           981\n",
      "기타 괴롭힘 대화      1094\n",
      "직장 내 괴롭힘 대화     979\n",
      "협박 대화           896\n",
      "dtype: int64\n"
     ]
    }
   ],
   "source": [
    "#클래스 갯수 확인\n",
    "class_counts = train_data.groupby('class').size()\n",
    "print(class_counts)"
   ]
  },
  {
   "cell_type": "code",
   "execution_count": 15,
   "id": "a7586d60",
   "metadata": {},
   "outputs": [
    {
     "data": {
      "text/html": [
       "<div>\n",
       "<style scoped>\n",
       "    .dataframe tbody tr th:only-of-type {\n",
       "        vertical-align: middle;\n",
       "    }\n",
       "\n",
       "    .dataframe tbody tr th {\n",
       "        vertical-align: top;\n",
       "    }\n",
       "\n",
       "    .dataframe thead th {\n",
       "        text-align: right;\n",
       "    }\n",
       "</style>\n",
       "<table border=\"1\" class=\"dataframe\">\n",
       "  <thead>\n",
       "    <tr style=\"text-align: right;\">\n",
       "      <th></th>\n",
       "      <th>idx</th>\n",
       "      <th>class</th>\n",
       "      <th>conversation</th>\n",
       "    </tr>\n",
       "  </thead>\n",
       "  <tbody>\n",
       "    <tr>\n",
       "      <th>0</th>\n",
       "      <td>0</td>\n",
       "      <td>협박 대화</td>\n",
       "      <td>지금 너 스스로를 죽여달라고 애원하는 것인가?\\n 아닙니다. 죄송합니다.\\n 죽을 ...</td>\n",
       "    </tr>\n",
       "    <tr>\n",
       "      <th>1</th>\n",
       "      <td>1</td>\n",
       "      <td>협박 대화</td>\n",
       "      <td>길동경찰서입니다.\\n9시 40분 마트에 폭발물을 설치할거다.\\n네?\\n똑바로 들어 ...</td>\n",
       "    </tr>\n",
       "    <tr>\n",
       "      <th>12</th>\n",
       "      <td>12</td>\n",
       "      <td>협박 대화</td>\n",
       "      <td>네네 무슨 일 때문에 전화주셨나요?\\n우리 애가 지우개 하나 훔친거 가지고 애들 앞...</td>\n",
       "    </tr>\n",
       "    <tr>\n",
       "      <th>20</th>\n",
       "      <td>20</td>\n",
       "      <td>협박 대화</td>\n",
       "      <td>너가 민수라는 남자 제자니?\\n네 맞는데요 왜 그러시죠? 혹시 저희 선생님께 무슨 ...</td>\n",
       "    </tr>\n",
       "    <tr>\n",
       "      <th>23</th>\n",
       "      <td>23</td>\n",
       "      <td>협박 대화</td>\n",
       "      <td>나좀 제발 그만 따라다녀.부탁이야\\n너 만나려면 널 찾아가야될거아냐\\n우리 헤어졌자...</td>\n",
       "    </tr>\n",
       "    <tr>\n",
       "      <th>...</th>\n",
       "      <td>...</td>\n",
       "      <td>...</td>\n",
       "      <td>...</td>\n",
       "    </tr>\n",
       "    <tr>\n",
       "      <th>3924</th>\n",
       "      <td>3924</td>\n",
       "      <td>협박 대화</td>\n",
       "      <td>때리지 말아줘\\n 아퍼? 아프면 참아봐.\\n나 이미 충분히 병원다니고 있어.\\n병원...</td>\n",
       "    </tr>\n",
       "    <tr>\n",
       "      <th>3925</th>\n",
       "      <td>3925</td>\n",
       "      <td>협박 대화</td>\n",
       "      <td>오랜만이다. 여기 니 인질\\n그래. 형이 무사히 다 빠져나가고 나면 그 다음에 이야...</td>\n",
       "    </tr>\n",
       "    <tr>\n",
       "      <th>3926</th>\n",
       "      <td>3926</td>\n",
       "      <td>협박 대화</td>\n",
       "      <td>아가씨 너희 집 어딘지 이제 아는데.\\n 선생님 제발 우리 집에는 오지 마세요.\\n...</td>\n",
       "    </tr>\n",
       "    <tr>\n",
       "      <th>3929</th>\n",
       "      <td>3929</td>\n",
       "      <td>협박 대화</td>\n",
       "      <td>안녕하세요 중고나라보고 문의드려요\\n네 아이폰 50만원에 팔아요\\n네 입금했습니다\\...</td>\n",
       "    </tr>\n",
       "    <tr>\n",
       "      <th>3938</th>\n",
       "      <td>3938</td>\n",
       "      <td>협박 대화</td>\n",
       "      <td>한국지검검사 윤동철 입니다. 지금 박세미님 계좌가 범죄에 연루되어 있으니 빨리 저한...</td>\n",
       "    </tr>\n",
       "  </tbody>\n",
       "</table>\n",
       "<p>896 rows × 3 columns</p>\n",
       "</div>"
      ],
      "text/plain": [
       "       idx  class                                       conversation\n",
       "0        0  협박 대화  지금 너 스스로를 죽여달라고 애원하는 것인가?\\n 아닙니다. 죄송합니다.\\n 죽을 ...\n",
       "1        1  협박 대화  길동경찰서입니다.\\n9시 40분 마트에 폭발물을 설치할거다.\\n네?\\n똑바로 들어 ...\n",
       "12      12  협박 대화  네네 무슨 일 때문에 전화주셨나요?\\n우리 애가 지우개 하나 훔친거 가지고 애들 앞...\n",
       "20      20  협박 대화  너가 민수라는 남자 제자니?\\n네 맞는데요 왜 그러시죠? 혹시 저희 선생님께 무슨 ...\n",
       "23      23  협박 대화  나좀 제발 그만 따라다녀.부탁이야\\n너 만나려면 널 찾아가야될거아냐\\n우리 헤어졌자...\n",
       "...    ...    ...                                                ...\n",
       "3924  3924  협박 대화  때리지 말아줘\\n 아퍼? 아프면 참아봐.\\n나 이미 충분히 병원다니고 있어.\\n병원...\n",
       "3925  3925  협박 대화  오랜만이다. 여기 니 인질\\n그래. 형이 무사히 다 빠져나가고 나면 그 다음에 이야...\n",
       "3926  3926  협박 대화  아가씨 너희 집 어딘지 이제 아는데.\\n 선생님 제발 우리 집에는 오지 마세요.\\n...\n",
       "3929  3929  협박 대화  안녕하세요 중고나라보고 문의드려요\\n네 아이폰 50만원에 팔아요\\n네 입금했습니다\\...\n",
       "3938  3938  협박 대화  한국지검검사 윤동철 입니다. 지금 박세미님 계좌가 범죄에 연루되어 있으니 빨리 저한...\n",
       "\n",
       "[896 rows x 3 columns]"
      ]
     },
     "execution_count": 15,
     "metadata": {},
     "output_type": "execute_result"
    }
   ],
   "source": [
    "train_data[train_data['class']=='협박 대화']"
   ]
  },
  {
   "cell_type": "code",
   "execution_count": 16,
   "id": "5c7da802",
   "metadata": {},
   "outputs": [],
   "source": [
    "# train da를 x,y로 분류\n",
    "\n",
    "x_train = train_data['conversation']\n",
    "y_train = train_data['class']"
   ]
  },
  {
   "cell_type": "markdown",
   "id": "662e72a2",
   "metadata": {},
   "source": [
    "### 기본적인 데이터 확인 2"
   ]
  },
  {
   "cell_type": "code",
   "execution_count": 20,
   "id": "0db3af41",
   "metadata": {},
   "outputs": [],
   "source": [
    "import matplotlib.pyplot as plt\n",
    "# Colab에서 한글 폰트 설정\n",
    "plt.rcParams['font.family'] = 'NanumBarunGothic'\n",
    "plt.rcParams['axes.unicode_minus'] = False  # 마이너스 기호 깨짐 방지\n",
    "import numpy as np\n",
    "import pandas as pd\n",
    "import seaborn as sns"
   ]
  },
  {
   "cell_type": "code",
   "execution_count": 21,
   "id": "2aa588df",
   "metadata": {},
   "outputs": [
    {
     "name": "stdout",
     "output_type": "stream",
     "text": [
      "데이터 정보\n",
      "--------------------------------------------------\n",
      "x_train : (3950,)\n",
      "y_train : (3950,)\n",
      "label 종류: {'갈취 대화', '직장 내 괴롭힘 대화', '기타 괴롭힘 대화', '협박 대화'}\n",
      "--------------------------------------------------\n",
      "클래스의 수 : 4\n",
      "--------------------------------------------------\n",
      "훈련용 뉴스의 최대 길이 :874\n",
      "훈련용 뉴스의 평균 길이 :226.57088607594937\n"
     ]
    },
    {
     "data": {
      "image/png": "[encoded data removed]",
      "text/plain": [
       "<Figure size 1080x360 with 2 Axes>"
      ]
     },
     "metadata": {
      "needs_background": "light"
     },
     "output_type": "display_data"
    }
   ],
   "source": [
    "print('데이터 정보')\n",
    "print('-'*50)\n",
    "print('x_train :',x_train.shape)\n",
    "print('y_train :',y_train.shape)\n",
    "print('label 종류:', set(y_train))\n",
    "print('-'*50)\n",
    "num_classes = 4\n",
    "print('클래스의 수 : {}'.format(num_classes))\n",
    "print('-'*50)\n",
    "print('훈련용 뉴스의 최대 길이 :{}'.format(max(len(l) for l in x_train)))\n",
    "print('훈련용 뉴스의 평균 길이 :{}'.format(sum(map(len, x_train))/len(x_train)))\n",
    "\n",
    "# Create a figure with two subplots\n",
    "fig, axes = plt.subplots(nrows=1, ncols=2, figsize=(15, 5))\n",
    "\n",
    "# Plot the histogram of sample lengths\n",
    "axes[0].hist([len(s) for s in x_train], bins=50)\n",
    "axes[0].set_xlabel('length of samples')\n",
    "axes[0].set_ylabel('number of samples')\n",
    "axes[0].set_title('Sample Length Distribution')\n",
    "\n",
    "# Plot the count of each class\n",
    "sns.countplot(x=y_train, ax=axes[1])\n",
    "axes[1].set_title('Class Distribution')\n",
    "\n",
    "# Adjust layout\n",
    "plt.tight_layout()\n",
    "\n",
    "# Show the plots\n",
    "plt.show()"
   ]
  },
  {
   "cell_type": "code",
   "execution_count": 22,
   "id": "ae468d31",
   "metadata": {},
   "outputs": [
    {
     "data": {
      "image/png": "[encoded data removed]",
      "text/plain": [
       "<Figure size 1080x360 with 4 Axes>"
      ]
     },
     "metadata": {
      "needs_background": "light"
     },
     "output_type": "display_data"
    }
   ],
   "source": [
    "#데이터 클래스별 길이 분포 확인\n",
    "\n",
    "fig, axes = plt.subplots(nrows=2, ncols=2, figsize=(15, 5))\n",
    "\n",
    "# Plot the histogram of sample lengths\n",
    "axes[0][0].hist([len(s) for s in train_data['conversation'][train_data['class']=='협박 대화']], bins=50)\n",
    "axes[0][0].set_xlabel('length of samples')\n",
    "axes[0][0].set_ylabel('number of samples')\n",
    "axes[0][0].set_title('협박 대화')\n",
    "\n",
    "axes[0][1].hist([len(s) for s in train_data['conversation'][train_data['class']=='갈취 대화']], bins=50)\n",
    "axes[0][1].set_xlabel('length of samples')\n",
    "axes[0][1].set_ylabel('number of samples')\n",
    "axes[0][1].set_title('갈취 대화')\n",
    "\n",
    "axes[1][0].hist([len(s) for s in train_data['conversation'][train_data['class']=='직장 내 괴롭힘 대화']], bins=50)\n",
    "axes[1][0].set_xlabel('length of samples')\n",
    "axes[1][0].set_ylabel('number of samples')\n",
    "axes[1][0].set_title('직장 내 괴롭힘 대화')\n",
    "\n",
    "axes[1][1].hist([len(s) for s in train_data['conversation'][train_data['class']=='기타 괴롭힘 대화']\n",
    "], bins=50)\n",
    "axes[1][1].set_xlabel('length of samples')\n",
    "axes[1][1].set_ylabel('number of samples')\n",
    "axes[1][1].set_title('기타 괴롭힘 대화')\n",
    "\n",
    "plt.subplots_adjust(wspace=0.3, hspace=0.5)\n",
    "plt.show()"
   ]
  },
  {
   "cell_type": "markdown",
   "id": "9cfca6f5",
   "metadata": {},
   "source": [
    "### EDA 시작"
   ]
  },
  {
   "cell_type": "code",
   "execution_count": 23,
   "id": "da1fa98b",
   "metadata": {},
   "outputs": [
    {
     "data": {
      "text/plain": [
       "'지금 너 스스로를 죽여달라고 애원하는 것인가?\\n 아닙니다. 죄송합니다.\\n 죽을 거면 혼자 죽지 우리까지 사건에 휘말리게 해? 진짜 죽여버리고 싶게.\\n 정말 잘못했습니다.\\n 너가 선택해. 너가 죽을래 네 가족을 죽여줄까.\\n 죄송합니다. 정말 잘못했습니다.\\n 너에게는 선택권이 없어. 선택 못한다면 너와 네 가족까지 모조리 죽여버릴거야.\\n 선택 못하겠습니다. 한번만 도와주세요.\\n 그냥 다 죽여버려야겠군. 이의 없지?\\n 제발 도와주세요.'"
      ]
     },
     "execution_count": 23,
     "metadata": {},
     "output_type": "execute_result"
    }
   ],
   "source": [
    "x_train[0]"
   ]
  },
  {
   "cell_type": "code",
   "execution_count": 24,
   "id": "68570329",
   "metadata": {},
   "outputs": [
    {
     "data": {
      "text/plain": [
       "'우와 00아 너 이번에 올라온 사진 정말 예쁘더라.\\n아 응 고마워!\\n그래서 그 사진 보고 너가 입은 옷이랑 립스틱 따라 사고 싶은데 어디 제품인지 알려줄 수 있을까 ? 나 정말 너 좋아해서 따라하고 사진 찍고 싶어.\\n어. 0000 여기 제품이야.\\n우와 봤는데 너무 비싼 것 같아. 어차피 사진 한 번만 찍을 껀데 둘 다 빌려주면 안될까?\\n아 그래. 빌려줄게.\\n그러면 빌려주는 김에 전전 피드에 올린 옷도 같이 빌려줘!\\n아 그거는 내가 사촌언니 이미 빌려줘서 못 빌려줄 것 같아.\\n그래? 근데 나 진짜 너무 궁금한데 언니한테 얼른 다시 받아서 빌려주면 안될까? 너 엄청 착하잖아. 믿어도 되는거지?!\\n알겠어.'"
      ]
     },
     "execution_count": 24,
     "metadata": {},
     "output_type": "execute_result"
    }
   ],
   "source": [
    "x_train[1000]"
   ]
  },
  {
   "cell_type": "code",
   "execution_count": 10,
   "id": "bf597428",
   "metadata": {},
   "outputs": [],
   "source": [
    "import re\n",
    "\n",
    "def preprocess_sentence(sentence, s_token=False, e_token=False):\n",
    "    sentence = sentence.lower().strip()\n",
    "\n",
    "    sentence = re.sub(r\"([?.!,])\", r\" \\1 \", sentence)\n",
    "    sentence = re.sub(r'[\" \"]+', \" \", sentence)\n",
    "    sentence = re.sub(r\"[^a-zA-Z가-힣?.!,]+\", \" \", sentence)\n",
    "\n",
    "    sentence = sentence.strip()\n",
    "\n",
    "    if s_token:\n",
    "        sentence = '<start> ' + sentence\n",
    "\n",
    "    if e_token:\n",
    "        sentence += ' <end>'\n",
    "    \n",
    "    return sentence"
   ]
  },
  {
   "cell_type": "code",
   "execution_count": 11,
   "id": "eb4e146b",
   "metadata": {},
   "outputs": [],
   "source": [
    "from konlpy.tag import Mecab\n",
    "m = Mecab()"
   ]
  },
  {
   "cell_type": "code",
   "execution_count": 12,
   "id": "b60a392a",
   "metadata": {},
   "outputs": [
    {
     "name": "stderr",
     "output_type": "stream",
     "text": [
      "100%|██████████| 3950/3950 [00:05<00:00, 710.47it/s] \n"
     ]
    }
   ],
   "source": [
    "from tqdm import tqdm\n",
    "\n",
    "corpus_kor = list()\n",
    "for sentence_kor in tqdm(train_data['conversation']):\n",
    "    corpus_kor.append(m.morphs(sentence_kor))"
   ]
  },
  {
   "cell_type": "code",
   "execution_count": 13,
   "id": "9be5ec19",
   "metadata": {},
   "outputs": [
    {
     "name": "stdout",
     "output_type": "stream",
     "text": [
      "['어', '이', '초딩', '.', '이리', '와봐', '누구', '세요', '이리', '와', '보', '라고', '자식', '아', '.', '죽', '고', '싶', '냐', '왜', '이러', '세요', '확', '!', '죽', '을래', '?', '조용히', '이리', '안', '와', '?', '무서워요', '돈', '얼마', '있', '어', '.', '다', '내놔', '봐', '.', '저', '돈', '없', '어요', '씨발', '.', '죽', '을래', '.', '너', '어디', '살', '아', '.', '가진', '거', '다', '내놔', '봐', '.', '왜', '이러', '세요', '산', '에', '가', '서', '확', '묻', '어', '버리', '기', '전', '에', '호주머니', '에', '있', '는', '거', '다', '내놔', '이러', '지', '마세요']\n"
     ]
    }
   ],
   "source": [
    "print(corpus_kor[100])"
   ]
  },
  {
   "cell_type": "code",
   "execution_count": 25,
   "id": "9b6ae603",
   "metadata": {},
   "outputs": [
    {
     "name": "stdout",
     "output_type": "stream",
     "text": [
      "['지금', '너', '스스로', '를', '죽여', '달', '라고', '애원', '하', '는', '것', '인가', '?', '아닙니다', '.', '죄송', '합니다', '.', '죽', '을', '거', '면', '혼자', '죽', '지', '우리', '까지', '사건', '에', '휘말리', '게', '해', '?', '진짜', '죽여', '버리', '고', '싶', '게', '.', '정말', '잘못', '했', '습니다', '.', '너', '가', '선택', '해', '.', '너', '가', '죽', '을래', '네', '가족', '을', '죽여', '줄까', '.', '죄송', '합니다', '.', '정말', '잘못', '했', '습니다', '.', '너', '에게', '는', '선택', '권', '이', '없', '어', '.', '선택', '못', '한다면', '너', '와', '네', '가족', '까지', '모조리', '죽여', '버릴', '거', '야', '.', '선택', '못', '하', '겠', '습니다', '.', '한', '번', '만', '도와', '주', '세요', '.', '그냥', '다', '죽여', '버려야', '겠', '군', '.', '이', '의', '없', '지', '?', '제발', '도와', '주', '세요', '.']\n"
     ]
    }
   ],
   "source": [
    "print(corpus_kor[0])"
   ]
  },
  {
   "cell_type": "code",
   "execution_count": 26,
   "id": "9da20f28",
   "metadata": {},
   "outputs": [
    {
     "name": "stdout",
     "output_type": "stream",
     "text": [
      "['우와', '00', '아', '너', '이번', '에', '올라온', '사진', '정말', '예쁘', '더라', '.', '아', '응', '고마워', '!', '그래서', '그', '사진', '보', '고', '너', '가', '입', '은', '옷', '이랑', '립스틱', '따라', '사', '고', '싶', '은데', '어디', '제품', '인지', '알려', '줄', '수', '있', '을까', '?', '나', '정말', '너', '좋', '아', '해서', '따라', '하', '고', '사진', '찍', '고', '싶', '어', '.', '어', '.', '0000', '여기', '제품', '이', '야', '.', '우와', '봤', '는데', '너무', '비싼', '것', '같', '아', '.', '어차피', '사진', '한', '번', '만', '찍', '을', '껀', '데', '둘', '다', '빌려', '주', '면', '안', '될까', '?', '아', '그래', '.', '빌려', '줄게', '.', '그러', '면', '빌려', '주', '는', '김', '에', '전전', '피드', '에', '올린', '옷', '도', '같이', '빌려', '줘', '!', '아', '그거', '는', '내', '가', '사촌', '언니', '이미', '빌려', '줘서', '못', '빌려줄', '것', '같', '아', '.', '그래', '?', '근데', '나', '진짜', '너무', '궁금', '한데', '언니', '한테', '얼른', '다시', '받', '아서', '빌려', '주', '면', '안', '될까', '?', '너', '엄청', '착하', '잖아', '.', '믿', '어도', '되', '는', '거', '지', '?', '!', '알', '겠', '어', '.']\n"
     ]
    }
   ],
   "source": [
    "print(corpus_kor[1000])"
   ]
  },
  {
   "cell_type": "code",
   "execution_count": null,
   "id": "9629c455",
   "metadata": {},
   "outputs": [],
   "source": []
  },
  {
   "cell_type": "code",
   "execution_count": null,
   "id": "95d7d927",
   "metadata": {},
   "outputs": [],
   "source": []
  },
  {
   "cell_type": "code",
   "execution_count": null,
   "id": "3cb50a03",
   "metadata": {},
   "outputs": [],
   "source": []
  },
  {
   "cell_type": "code",
   "execution_count": null,
   "id": "bf155081",
   "metadata": {},
   "outputs": [],
   "source": []
  },
  {
   "cell_type": "code",
   "execution_count": null,
   "id": "cfb1d243",
   "metadata": {},
   "outputs": [],
   "source": []
  },
  {
   "cell_type": "code",
   "execution_count": null,
   "id": "fc1bd512",
   "metadata": {},
   "outputs": [],
   "source": []
  },
  {
   "cell_type": "code",
   "execution_count": null,
   "id": "574c195e",
   "metadata": {},
   "outputs": [],
   "source": []
  },
  {
   "cell_type": "code",
   "execution_count": null,
   "id": "feb99ec4",
   "metadata": {},
   "outputs": [],
   "source": []
  },
  {
   "cell_type": "code",
   "execution_count": null,
   "id": "f87ead29",
   "metadata": {},
   "outputs": [],
   "source": []
  },
  {
   "cell_type": "code",
   "execution_count": null,
   "id": "0d0f9584",
   "metadata": {},
   "outputs": [],
   "source": []
  },
  {
   "cell_type": "code",
   "execution_count": null,
   "id": "2b228706",
   "metadata": {},
   "outputs": [],
   "source": []
  },
  {
   "cell_type": "code",
   "execution_count": null,
   "id": "9b04aba5",
   "metadata": {},
   "outputs": [],
   "source": []
  },
  {
   "cell_type": "code",
   "execution_count": null,
   "id": "29b1b513",
   "metadata": {},
   "outputs": [],
   "source": []
  },
  {
   "cell_type": "code",
   "execution_count": null,
   "id": "08385ef8",
   "metadata": {},
   "outputs": [],
   "source": []
  },
  {
   "cell_type": "code",
   "execution_count": null,
   "id": "66df8979",
   "metadata": {},
   "outputs": [],
   "source": []
  },
  {
   "cell_type": "code",
   "execution_count": null,
   "id": "1da61259",
   "metadata": {},
   "outputs": [],
   "source": []
  },
  {
   "cell_type": "code",
   "execution_count": null,
   "id": "cccbf0ba",
   "metadata": {},
   "outputs": [],
   "source": []
  },
  {
   "cell_type": "code",
   "execution_count": null,
   "id": "8b7179bb",
   "metadata": {},
   "outputs": [],
   "source": []
  },
  {
   "cell_type": "code",
   "execution_count": null,
   "id": "a310b4d6",
   "metadata": {},
   "outputs": [],
   "source": []
  },
  {
   "cell_type": "code",
   "execution_count": null,
   "id": "051c2a1c",
   "metadata": {},
   "outputs": [],
   "source": []
  },
  {
   "cell_type": "code",
   "execution_count": null,
   "id": "cec66882",
   "metadata": {},
   "outputs": [],
   "source": []
  }
 ],
 "metadata": {
  "kernelspec": {
   "display_name": "Python 3 (ipykernel)",
   "language": "python",
   "name": "python3"
  },
  "language_info": {
   "codemirror_mode": {
    "name": "ipython",
    "version": 3
   },
   "file_extension": ".py",
   "mimetype": "text/x-python",
   "name": "python",
   "nbconvert_exporter": "python",
   "pygments_lexer": "ipython3",
   "version": "3.9.7"
  }
 },
 "nbformat": 4,
 "nbformat_minor": 5
}
