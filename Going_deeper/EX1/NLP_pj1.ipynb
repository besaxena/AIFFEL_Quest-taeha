{
 "cells": [
  {
   "cell_type": "markdown",
   "id": "55c05620",
   "metadata": {},
   "source": [
    "### 프로젝트: sentencepiece  사용하기\n",
    "\n"
   ]
  },
  {
   "cell_type": "code",
   "execution_count": 4,
   "id": "39dc5a8e",
   "metadata": {},
   "outputs": [],
   "source": [
    "#라이브러리 import\n",
    "\n",
    "import pickle\n",
    "import pandas as pd\n",
    "import numpy as np\n",
    "import matplotlib.pyplot as plt\n",
    "import re\n",
    "import urllib.request\n",
    "from konlpy.tag import Okt\n",
    "from tqdm import tqdm\n",
    "from tensorflow.keras.preprocessing.text import Tokenizer\n",
    "from tensorflow.keras.preprocessing.sequence import pad_sequences"
   ]
  },
  {
   "cell_type": "code",
   "execution_count": 5,
   "id": "abb9c0f5",
   "metadata": {},
   "outputs": [
    {
     "data": {
      "text/plain": [
       "('ratings_test.txt', <http.client.HTTPMessage at 0x7f88f9c00d90>)"
      ]
     },
     "execution_count": 5,
     "metadata": {},
     "output_type": "execute_result"
    }
   ],
   "source": [
    "#train & test 데이터 받아오기\n",
    "\n",
    "urllib.request.urlretrieve(\"https://raw.githubusercontent.com/e9t/nsmc/master/ratings_train.txt\", filename=\"ratings_train.txt\")\n",
    "urllib.request.urlretrieve(\"https://raw.githubusercontent.com/e9t/nsmc/master/ratings_test.txt\", filename=\"ratings_test.txt\")"
   ]
  },
  {
   "cell_type": "code",
   "execution_count": 6,
   "id": "bab99070",
   "metadata": {},
   "outputs": [],
   "source": [
    "# train & test 데이터 저장\n",
    "\n",
    "train_data = pd.read_table('ratings_train.txt')\n",
    "test_data = pd.read_table('ratings_test.txt')"
   ]
  },
  {
   "cell_type": "code",
   "execution_count": 7,
   "id": "c083857c",
   "metadata": {},
   "outputs": [
    {
     "name": "stdout",
     "output_type": "stream",
     "text": [
      "훈련용 리뷰 개수 : 150000\n",
      "테스트 리뷰 개수 : 50000\n"
     ]
    }
   ],
   "source": [
    "#데이터 갯수 확인\n",
    "\n",
    "print('훈련용 리뷰 개수 :',len(train_data))\n",
    "print('테스트 리뷰 개수 :',len(test_data))"
   ]
  },
  {
   "cell_type": "code",
   "execution_count": 9,
   "id": "24c4b12e",
   "metadata": {},
   "outputs": [
    {
     "name": "stdout",
     "output_type": "stream",
     "text": [
      "Data Size: 150001\n",
      "Example:\n",
      ">> id\tdocument\tlabel\n",
      ">> 3989148\t약탈자를 위한 변명, 이라. 저놈들은 착한놈들 절대 아닌걸요.\t1\n",
      ">> 4805788\t이 영화가 왜 이렇게 저평가 받는지 모르겠다\t1\n",
      ">> 8317483\t백봉기 언제나오나요?\t1\n",
      ">> 9801316\t아햏햏 아햏햏 아햏햏.\t1\n"
     ]
    }
   ],
   "source": [
    "#  테스트 데이터 다운 및 확인\n",
    "\n",
    "import os\n",
    "path_to_file = os.getenv('HOME')+'/aiffel/text_preprocess/ratings_train.txt'\n",
    "\n",
    "with open(path_to_file, \"r\") as f:\n",
    "    raw = f.read().splitlines()\n",
    "\n",
    "print(\"Data Size:\", len(raw))\n",
    "\n",
    "print(\"Example:\")\n",
    "for sen in raw[0:100][::20]: print(\">>\", sen)"
   ]
  },
  {
   "cell_type": "code",
   "execution_count": 17,
   "id": "a8d46ca2",
   "metadata": {},
   "outputs": [
    {
     "name": "stdout",
     "output_type": "stream",
     "text": [
      "문장의 최단 길이: 8\n",
      "문장의 최장 길이: 168\n",
      "문장의 평균 길이: 45\n"
     ]
    },
    {
     "data": {
      "image/png": "[encoded data removed]",
      "text/plain": [
       "<Figure size 432x288 with 1 Axes>"
      ]
     },
     "metadata": {
      "needs_background": "light"
     },
     "output_type": "display_data"
    }
   ],
   "source": [
    "# 자연어 데이터 확인: \n",
    "# 아래 소스는 문장의 최단 길이, 최장 길이, 평균 길이를 구한 후 문장 길이 분포를 막대그래프로 표현해 주는 소스입니다. \n",
    "# raw 변수는 앞서 다운로드받은 데이터가 담긴 변수입니다!\n",
    "\n",
    "min_len = 999\n",
    "max_len = 0\n",
    "sum_len = 0\n",
    "\n",
    "for sen in raw:\n",
    "    length = len(sen)\n",
    "    if min_len > length: min_len = length\n",
    "    if max_len < length: max_len = length\n",
    "    sum_len += length\n",
    "\n",
    "print(\"문장의 최단 길이:\", min_len)\n",
    "print(\"문장의 최장 길이:\", max_len)\n",
    "print(\"문장의 평균 길이:\", sum_len // len(raw))\n",
    "\n",
    "sentence_length = np.zeros((max_len), dtype=int)\n",
    "\n",
    "for sen in raw:\n",
    "    sentence_length[len(sen)-1] += 1\n",
    "\n",
    "plt.bar(range(max_len), sentence_length, width=1.0)\n",
    "plt.title(\"Sentence Length Distribution\")\n",
    "plt.show()"
   ]
  },
  {
   "cell_type": "markdown",
   "id": "741845ae",
   "metadata": {},
   "source": [
    "보니까 id랑 label은 단어사전을 만드는데 방해가 될 것으로 판단. 따라서 이를 지우고 document만 모으고자 함."
   ]
  },
  {
   "cell_type": "code",
   "execution_count": 11,
   "id": "c02ac3c8",
   "metadata": {},
   "outputs": [
    {
     "name": "stdout",
     "output_type": "stream",
     "text": [
      "0                                       아 더빙.. 진짜 짜증나네요 목소리\n",
      "1                         흠...포스터보고 초딩영화줄....오버연기조차 가볍지 않구나\n",
      "2                                         너무재밓었다그래서보는것을추천한다\n",
      "3                             교도소 이야기구먼 ..솔직히 재미는 없다..평점 조정\n",
      "4         사이몬페그의 익살스런 연기가 돋보였던 영화!스파이더맨에서 늙어보이기만 했던 커스틴 ...\n",
      "                                ...                        \n",
      "149995                                  인간이 문제지.. 소는 뭔죄인가..\n",
      "149996                                        평점이 너무 낮아서...\n",
      "149997                      이게 뭐요? 한국인은 거들먹거리고 필리핀 혼혈은 착하다?\n",
      "149998                          청춘 영화의 최고봉.방황과 우울했던 날들의 자화상\n",
      "149999                             한국 영화 최초로 수간하는 내용이 담긴 영화\n",
      "Name: document, Length: 150000, dtype: object\n"
     ]
    }
   ],
   "source": [
    "train_data_document = train_data['document']\n",
    "print(train_data_document)"
   ]
  },
  {
   "cell_type": "code",
   "execution_count": 12,
   "id": "4ea32e42",
   "metadata": {},
   "outputs": [
    {
     "data": {
      "text/plain": [
       "146182"
      ]
     },
     "execution_count": 12,
     "metadata": {},
     "output_type": "execute_result"
    }
   ],
   "source": [
    "# train data document EDA 1 : 중복제거\n",
    "\n",
    "# document 열과 label 열의 중복을 제외한 값의 개수\n",
    "train_data_document.nunique()"
   ]
  },
  {
   "cell_type": "markdown",
   "id": "275c765d",
   "metadata": {},
   "source": [
    "150,000개에서 대략 4,000개가 중복되어있음. 따라서 중복된 샘플을 제거함."
   ]
  },
  {
   "cell_type": "code",
   "execution_count": 14,
   "id": "baf3a217",
   "metadata": {},
   "outputs": [
    {
     "name": "stdout",
     "output_type": "stream",
     "text": [
      "총 샘플의 수 : 146183\n"
     ]
    }
   ],
   "source": [
    "# document 열의 중복 제거\n",
    "train_data_document.drop_duplicates(inplace=True)\n",
    "print('총 샘플의 수 :',len(train_data_document))"
   ]
  },
  {
   "cell_type": "code",
   "execution_count": 15,
   "id": "cde02616",
   "metadata": {},
   "outputs": [
    {
     "name": "stdout",
     "output_type": "stream",
     "text": [
      "False\n",
      "EDA 1,2 이후 총 샘플의 수 : 146182\n"
     ]
    }
   ],
   "source": [
    "# train data document EDA 2 : null값 제거\n",
    "train_data_document = train_data_document.dropna(axis=0) #결측치 제거 코드\n",
    "print(train_data_document.isnull().values.any())\n",
    "print('EDA 1,2 이후 총 샘플의 수 :',len(train_data_document))"
   ]
  },
  {
   "cell_type": "code",
   "execution_count": 18,
   "id": "235b9aca",
   "metadata": {},
   "outputs": [],
   "source": [
    "# txt파일로 저장 및 인덱스 없애기\n",
    "train_data_document.to_csv('train_data_document.txt', sep = '\\t', index = False)"
   ]
  },
  {
   "cell_type": "code",
   "execution_count": 19,
   "id": "f87296ec",
   "metadata": {},
   "outputs": [
    {
     "name": "stdout",
     "output_type": "stream",
     "text": [
      "Data Size: 146183\n",
      "Example:\n",
      ">> document\n",
      ">> 약탈자를 위한 변명, 이라. 저놈들은 착한놈들 절대 아닌걸요.\n",
      ">> 이 영화가 왜 이렇게 저평가 받는지 모르겠다\n",
      ">> 백봉기 언제나오나요?\n",
      ">> 아햏햏 아햏햏 아햏햏.\n"
     ]
    }
   ],
   "source": [
    "# 정제된 테스트 데이터 다운 및 확인\n",
    "\n",
    "import os\n",
    "path_to_file = os.getenv('HOME')+'/aiffel/text_preprocess/train_data_document.txt'\n",
    "\n",
    "with open(path_to_file, \"r\") as f:\n",
    "    raw = f.read().splitlines()\n",
    "\n",
    "print(\"Data Size:\", len(raw))\n",
    "\n",
    "print(\"Example:\")\n",
    "for sen in raw[0:100][::20]: print(\">>\", sen)"
   ]
  },
  {
   "cell_type": "code",
   "execution_count": 20,
   "id": "803078b5",
   "metadata": {},
   "outputs": [
    {
     "name": "stdout",
     "output_type": "stream",
     "text": [
      "문장의 최단 길이: 1\n",
      "문장의 최장 길이: 158\n",
      "문장의 평균 길이: 36\n"
     ]
    },
    {
     "data": {
      "image/png": "[encoded data removed]",
      "text/plain": [
       "<Figure size 432x288 with 1 Axes>"
      ]
     },
     "metadata": {
      "needs_background": "light"
     },
     "output_type": "display_data"
    }
   ],
   "source": [
    "min_len = 999\n",
    "max_len = 0\n",
    "sum_len = 0\n",
    "\n",
    "for sen in raw:\n",
    "    length = len(sen)\n",
    "    if min_len > length: min_len = length\n",
    "    if max_len < length: max_len = length\n",
    "    sum_len += length\n",
    "\n",
    "print(\"문장의 최단 길이:\", min_len)\n",
    "print(\"문장의 최장 길이:\", max_len)\n",
    "print(\"문장의 평균 길이:\", sum_len // len(raw))\n",
    "\n",
    "sentence_length = np.zeros((max_len), dtype=int)\n",
    "\n",
    "for sen in raw:\n",
    "    sentence_length[len(sen)-1] += 1\n",
    "\n",
    "plt.bar(range(max_len), sentence_length, width=1.0)\n",
    "plt.title(\"Sentence Length Distribution\")\n",
    "plt.show()"
   ]
  },
  {
   "cell_type": "code",
   "execution_count": 22,
   "id": "b701f47a",
   "metadata": {
    "scrolled": true
   },
   "outputs": [
    {
     "name": "stdout",
     "output_type": "stream",
     "text": [
      "아\n",
      "잼\n",
      "1\n",
      "4\n",
      "굿\n",
      "짱\n",
      "휴\n",
      ".\n",
      "음\n",
      "?\n",
      "ㅎ\n",
      "ㅋ\n",
      "즐\n",
      "♥\n",
      "굳\n",
      "네\n",
      "ㅇ\n",
      "k\n",
      "ㅠ\n",
      "쒯\n",
      "♬\n",
      "토\n",
      "O\n",
      "똥\n",
      "z\n",
      "헐\n",
      "삼\n",
      "꽝\n",
      "!\n",
      "풉\n",
      "ㅅ\n",
      "왜\n",
      "ㄴ\n",
      "쉣\n",
      "봐\n",
      "뿌\n",
      "ㅜ\n",
      "♡\n",
      "ㅁ\n",
      "0\n",
      "ㅉ\n",
      "d\n",
      "흥\n",
      "乃\n",
      "찜\n",
      "귯\n",
      "린\n",
      "시\n",
      "ㅗ\n",
      "a\n",
      "c\n",
      "흠\n",
      "웅\n",
      "ㅣ\n",
      "오\n",
      "9\n",
      "쩜\n",
      "애\n",
      "헝\n",
      "쨩\n",
      "f\n",
      "움\n",
      "ㄳ\n",
      "업\n",
      "헉\n",
      "군\n",
      "b\n",
      ";\n",
      "g\n",
      "올\n",
      "걍\n",
      "허\n",
      "-\n",
      "쀍\n",
      "로\n",
      "ㄹ\n",
      "ㅂ\n",
      "갑\n",
      "즛\n",
      "킥\n",
      "함\n",
      "진\n",
      "ㅡ\n",
      "잠\n",
      "곧\n",
      "ㅍ\n",
      "h\n",
      "·\n",
      "캬\n",
      "ㅆ\n",
      ",\n",
      "풋\n",
      "ㄱ\n",
      "파\n",
      "ㄷ\n",
      "웩\n",
      "꺅\n",
      "욜\n",
      "ㅄ\n",
      "2\n",
      "핡\n"
     ]
    }
   ],
   "source": [
    "#EDA 3: 문장길이와 분포에 따른 이상치 탐지 (길이가 1인 문장 확인)\n",
    "\n",
    "def check_sentence_with_length(raw, length):\n",
    "    count = 0\n",
    "    \n",
    "    for sen in raw:\n",
    "        if len(sen) == length:\n",
    "            print(sen)\n",
    "            count += 1\n",
    "            if count > 100: return\n",
    "\n",
    "check_sentence_with_length(raw, 1)"
   ]
  },
  {
   "cell_type": "code",
   "execution_count": 26,
   "id": "8a390473",
   "metadata": {
    "scrolled": true
   },
   "outputs": [
    {
     "name": "stdout",
     "output_type": "stream",
     "text": [
      "재미있어요\n",
      "전 좋아요\n",
      "아 빵점~\n",
      "ㅠㅠ 슬픔\n",
      "최고의영화\n",
      "잘봤습니다\n",
      "쓰레기영화\n",
      "볼만 한데\n",
      "짝퉁쓰래기\n",
      "잼없네요넘\n",
      "재밌따!!\n",
      "반지의제왕\n",
      "ㅄ같은영화\n",
      "옛다 평점\n",
      "글쎄...\n",
      "8점만들자\n",
      "재밌군..\n",
      "할말 없음\n",
      "좋다...\n",
      "좋았다..\n",
      "시시하다.\n",
      "완벽하다!\n",
      "또보고싶은\n",
      "완존재밌어\n",
      "이건뭐..\n",
      "결말 ㅠㅠ\n",
      "실망이다.\n",
      "사랑한다.\n",
      "쓰레기ㅡㅡ\n",
      "에이 모야\n",
      "재밌었어요\n",
      "가슴 아픔\n",
      "아나 ㅠㅠ\n",
      "쩌는듯ㅇㅇ\n",
      "재미없어요\n",
      "최고~^^\n",
      "시간아까워\n",
      "재밋어요~\n",
      "잼난다..\n",
      "재밌나여?\n",
      "눈물나다.\n",
      "OO하네2\n",
      "과연?ㅋㅋ\n",
      "원주율ㅋㅋ\n",
      "따분하다.\n",
      "솔직합니다\n",
      "휴우...\n",
      "더러운영화\n",
      "재미없네.\n",
      "너무 젬슴\n",
      "쫌 웃겼다\n",
      "짱이야~~\n",
      "좋습니다.\n",
      "재밌네 ,\n",
      "남자란..\n",
      "순수!!!\n",
      "이상한내용\n",
      "dㅇㅅㅇb\n",
      "코믹인가?\n",
      "멋진 영화\n",
      "약한 웃음\n",
      "명작이다.\n",
      "굿~~!!\n",
      "good!\n",
      "참나...\n",
      "떡실신..\n",
      "뭐야 이거\n",
      "짱~~~~\n",
      "코..콩!\n",
      "와..잼따\n",
      "제점수는요\n",
      "감동??ㅋ\n",
      "재밌습니다\n",
      "안경벗어!\n",
      "택시 기사\n",
      "재미있당.\n",
      "짱 재밌음\n",
      "굿 ㅠㅡㅠ\n",
      "쓰레기같다\n",
      "정말재밌다\n",
      "완전 짱~\n",
      "안타깝네요\n",
      "으리!!!\n",
      "즈질 안봐\n",
      "좋구만 ♡\n",
      "잼 없음.\n",
      "안봐서모름\n",
      "잼있다~~\n",
      "볼만하던데\n",
      "선동선동해\n",
      "좀 아쉬운\n",
      "이런젠장!\n",
      "할말없네요\n",
      "아 ...\n",
      "재미..x\n",
      "그냥 최고\n",
      "넘길어..\n",
      "어떨가나?\n",
      "잘된 영화\n",
      "두근두근~\n",
      "보다 껏다\n"
     ]
    }
   ],
   "source": [
    "#너무 짧은 문장은 이상한 댓글이 많은듯... 5개짜리로 한번 더 확인\n",
    "check_sentence_with_length(raw, 5)"
   ]
  },
  {
   "cell_type": "code",
   "execution_count": 29,
   "id": "063c6a02",
   "metadata": {
    "scrolled": true
   },
   "outputs": [
    {
     "name": "stdout",
     "output_type": "stream",
     "text": [
      "최고\n",
      "졸작\n",
      "대박\n",
      "버려\n",
      "망함\n",
      "굳굳\n",
      "안습\n",
      "망작\n",
      "ㅇㅇ\n",
      "쵝오\n",
      "굿!\n",
      "별루\n",
      "씐나\n",
      "쓰렉\n",
      "볼만\n",
      "허접\n",
      "비추\n",
      "좋다\n",
      "ㅎㅎ\n",
      "아나\n",
      "ㅉㅉ\n",
      "야.\n",
      "역시\n",
      "^^\n",
      "오오\n",
      "평이\n",
      "지루\n",
      "오욈\n",
      "ㅋㅋ\n",
      "지송\n",
      "별로\n",
      "눈물\n",
      "당연\n",
      "쩔어\n",
      "별노\n",
      "몰입\n",
      "졸잼\n",
      "돋네\n",
      "오글\n",
      "이응\n",
      "첨봄\n",
      "최악\n",
      "잼씀\n",
      "ok\n",
      "유후\n",
      "감동\n",
      "gg\n",
      ";;\n",
      "조앙\n",
      "1점\n",
      "표절\n",
      "명작\n",
      "으휴\n",
      "에효\n",
      "ㄱ굿\n",
      "굿잡\n",
      "잼나\n",
      "10\n",
      "ㅜㅜ\n",
      "우왕\n",
      "거지\n",
      "굿굿\n",
      "좋음\n",
      "실망\n",
      "굿.\n",
      "애이\n",
      "짱임\n",
      "전설\n",
      "mm\n",
      "와우\n",
      "등록\n",
      "하위\n",
      "그닥\n",
      "뭉클\n",
      "삼류\n",
      "HN\n",
      "윤하\n",
      "섹시\n",
      "실화\n",
      "머냐\n",
      "수작\n",
      "꿀잼\n",
      "동감\n",
      "dd\n",
      "굳ㅋ\n",
      "굳!\n",
      "추천\n",
      "좋아\n",
      "55\n",
      "안봐\n",
      "개쩜\n",
      "올레\n",
      "난해\n",
      "ㅠㅠ\n",
      "뭐니\n",
      "ㅁㅁ\n",
      "뭥미\n",
      "쓰랙\n",
      "좇~\n",
      "오우\n",
      "미안\n"
     ]
    }
   ],
   "source": [
    "# 5개짜리는 의미있는 내용이 꽤 있네... 그러면 2개정도는 어떨까?\n",
    "check_sentence_with_length(raw, 2)"
   ]
  },
  {
   "cell_type": "code",
   "execution_count": 25,
   "id": "d1bfd772",
   "metadata": {},
   "outputs": [
    {
     "name": "stdout",
     "output_type": "stream",
     "text": [
      "Outlier Index: 12\n",
      "Outlier Index: 13\n",
      "Outlier Index: 14\n",
      "Outlier Index: 15\n"
     ]
    }
   ],
   "source": [
    "# 별로 의미없는 문장을 걸러보자\n",
    "\n",
    "for idx, _sum in enumerate(sentence_length):\n",
    "    # 문장의 수가 4000을 초과하는 문장 길이를 추출합니다.\n",
    "    if _sum > 4000:\n",
    "        print(\"Outlier Index:\", idx+1)"
   ]
  },
  {
   "cell_type": "code",
   "execution_count": 30,
   "id": "3d0543c5",
   "metadata": {
    "scrolled": true
   },
   "outputs": [
    {
     "name": "stdout",
     "output_type": "stream",
     "text": [
      "아햏햏 아햏햏 아햏햏.\n",
      "단연 최고라고 할수있지\n",
      "용가리 진짜짱짱맨이다ㅋ\n",
      "나름 괜찮은 작품입니다\n",
      "정말 실망 스러웟음..\n",
      "무술인이 왜 총을드나?\n",
      "너무너무 훈훈하네요^^\n",
      "현실은 꿈, 꿈은 현실\n",
      "답없네, 뭐하는건지..\n",
      "엔딩이 넘 슬퍼요 :(\n",
      "감동감동감동의 도가니탕\n",
      "정말 최고의 영화...\n",
      "진짜 짜증나는 영화..\n",
      "상당히 재밌게 봤습니다\n",
      "영상미가 역시 최고네요\n",
      "감독ㅡㅡ다신영화찍지마라\n",
      "이런 영화가 참 좋다.\n",
      "정말 광해와 비슷한가?\n",
      "더빙이 똥이야 ....\n",
      "잠을 청할 수 있었다.\n",
      "나오코 진짜 집중안된다\n",
      "샬라샬라 나오다즁자쥬아\n",
      "지루하다.. 지루해..\n",
      "사과해요, 나한테!!!\n",
      "소재가 굉장히 신선했다\n",
      "솔직히 산만 하기만했다\n",
      "OST가 좋은 영화!!\n",
      "기적은 이미 일어났다.\n",
      "답을 알려고 하지마라.\n",
      "평점은 믿지마셈 재밌음\n",
      "재미 드럽게 없다ㅋㅋㅋ\n",
      "자식을 그렇게 때리냐?\n",
      "감동적이였고 좋았습니다\n",
      "울컥하는 사회현실 ㅠㅠ\n",
      "등장인물들 모두 짱~~\n",
      "막장드라마가 따로없구만\n",
      "말 필요엄따~~~~진정\n",
      "꿀잼 영화 추억이다ㅜㅜ\n",
      "맞추자 ㅍ?차븟ㅇㄱ디시\n",
      "순수하고 아름답다 :)\n",
      "변태적 성욕 자기합리화\n",
      "흠....나름 갠찬네요\n",
      "걍 10점 이라길래..\n",
      "실력이 필요없는 상황.\n",
      "감동과 웃음을 한방에!\n",
      "이거야 이거 ㅋㅋㅋㅋㅋ\n",
      "성동일딸 시르다...참\n",
      "평점알바들을 위해 1점\n",
      "볼만합니다 강추!!ㅋㅋ\n",
      "이거말고 겨울왕국을봐라\n",
      "좋은니다..^.,^~~\n",
      "2.3 (10자 제한)\n",
      "아무도 안달았네..ㄷㄷ\n",
      "엉성하고 어설프고...\n",
      "그냥 보통으로 보았다.\n",
      "너무 슬픈영화..울음ㅠ\n",
      "으리는 개뿔 ㅡ,.ㅡ^\n",
      "처음 본 에로 영화..\n",
      "평점 조정을 위해...\n",
      "그냥 쓰레기지 쓰레기~\n",
      "쵝오네요 최고 대박영화\n",
      "유전무죄 무전유죄!!!\n",
      "의외의 꿀잼 이였습니다\n",
      "어차피 우승은 송민호~\n",
      "이 때부터가 쓰레기였지\n",
      "완전 찝찝한 영화...\n",
      "이상형이 바뀌었습니다.\n",
      "역시 산드라블록 누님!\n",
      "결국 엄마가 죽인거네?\n",
      "그냥 그저 별시리...\n",
      "추천할만한 경제영화였음\n",
      "제대로 알아야할 역사임\n",
      "일본판이더재미있음...\n",
      "역시 재미있군요 >ㅁ<\n",
      "아깝다 나의 1점도ㅡㅡ\n",
      "마음이 따뜻해지는 영화\n",
      "죽었다. 참 재미없다.\n",
      "최고, 정말 최고다,,\n",
      "공유 보려고 보는 영화\n",
      "재밌습니다. 꿀잼 ㅋㅋ\n",
      "조정래와 임권택의 만남\n",
      "간만에쓰레기영화보네요ㅋ\n",
      "너무재밌게 봤어요...\n",
      "의미가 뭘까...///\n",
      "이건 범죄 수준이다..\n",
      "박평식-뚜껑열린다ㅋㅋㅋ\n",
      "볼수록 재밌는 마의!!\n",
      "짱~ 오늘 티비로 봤음\n",
      "말없이 눈물이 뚝뚝..\n",
      "이렇게 유쾌할수가ㅋㅋㅋ\n",
      "완죤 지루하고 재미없네\n",
      "보다가 나가는 영화??\n",
      "에휴..........\n",
      "재미도 없구만...에효\n",
      "옥보단 3D보다 쓰레기\n",
      "반전이 꽤나 신선했다.\n",
      "허접허접허접허접허접허접\n",
      "독특한 유머. 재밌다.\n",
      "좀 식상한 스릴러영화~\n",
      "하하하핳하햐하핯하핳하하\n",
      "이영화 어디서 보나요?\n"
     ]
    }
   ],
   "source": [
    "check_sentence_with_length(raw, 12) #긴 데이터들이 이상치인지 확인해봤지만, 이상치로 판단하기는 무리가 있음."
   ]
  },
  {
   "cell_type": "code",
   "execution_count": 33,
   "id": "7727d6ae",
   "metadata": {},
   "outputs": [
    {
     "name": "stdout",
     "output_type": "stream",
     "text": [
      "Data Size: 146183\n",
      "문장의 최단 길이: 1\n",
      "문장의 최장 길이: 158\n",
      "문장의 평균 길이: 36\n"
     ]
    },
    {
     "data": {
      "image/png": "[encoded data removed]",
      "text/plain": [
       "<Figure size 432x288 with 1 Axes>"
      ]
     },
     "metadata": {
      "needs_background": "light"
     },
     "output_type": "display_data"
    }
   ],
   "source": [
    "#중복제거 코드\n",
    "\n",
    "min_len = 999\n",
    "max_len = 0\n",
    "sum_len = 0\n",
    "\n",
    "cleaned_corpus = list(set(raw))  # set를 사용해서 중복을 제거합니다.\n",
    "print(\"Data Size:\", len(cleaned_corpus))\n",
    "\n",
    "for sen in cleaned_corpus:\n",
    "    length = len(sen)\n",
    "    if min_len > length: min_len = length\n",
    "    if max_len < length: max_len = length\n",
    "    sum_len += length\n",
    "\n",
    "print(\"문장의 최단 길이:\", min_len)\n",
    "print(\"문장의 최장 길이:\", max_len)\n",
    "print(\"문장의 평균 길이:\", sum_len // len(cleaned_corpus))\n",
    "\n",
    "sentence_length = np.zeros((max_len), dtype=int)\n",
    "\n",
    "for sen in cleaned_corpus:   # 중복이 제거된 코퍼스 기준\n",
    "    sentence_length[len(sen)-1] += 1\n",
    "\n",
    "plt.bar(range(max_len), sentence_length, width=1.0)\n",
    "plt.title(\"Sentence Length Distribution\")\n",
    "plt.show()"
   ]
  },
  {
   "cell_type": "code",
   "execution_count": 37,
   "id": "4757e45e",
   "metadata": {},
   "outputs": [
    {
     "data": {
      "image/png": "[encoded data removed]",
      "text/plain": [
       "<Figure size 432x288 with 1 Axes>"
      ]
     },
     "metadata": {
      "needs_background": "light"
     },
     "output_type": "display_data"
    }
   ],
   "source": [
    "# 너무 길거나 짧은 데이터 Padding 처리\n",
    "\n",
    "max_len = 160 #긴데이터 살릴필요있음, 미니멈이 2인 이유는 위에서 확인했음.\n",
    "min_len = 2\n",
    "\n",
    "# 길이 조건에 맞는 문장만 선택합니다.\n",
    "filtered_corpus = [s for s in cleaned_corpus if (len(s) < max_len) & (len(s) >= min_len)]\n",
    "\n",
    "# 분포도를 다시 그려봅니다.\n",
    "sentence_length = np.zeros((max_len), dtype=int)\n",
    "\n",
    "for sen in filtered_corpus:\n",
    "    sentence_length[len(sen)-1] += 1\n",
    "\n",
    "plt.bar(range(max_len), sentence_length, width=1.0)\n",
    "plt.title(\"Sentence Length Distribution\")\n",
    "plt.show()"
   ]
  },
  {
   "cell_type": "markdown",
   "id": "56d41a39",
   "metadata": {},
   "source": [
    "### 1. 공백기반 토큰화(한국어에서 무의미 하나 일단 해봄)"
   ]
  },
  {
   "cell_type": "code",
   "execution_count": 38,
   "id": "b7163cf3",
   "metadata": {},
   "outputs": [],
   "source": [
    "def tokenize(corpus):  # corpus: Tokenized Sentence's List\n",
    "    tokenizer = tf.keras.preprocessing.text.Tokenizer(filters='')\n",
    "    tokenizer.fit_on_texts(corpus)\n",
    "\n",
    "    tensor = tokenizer.texts_to_sequences(corpus)\n",
    "\n",
    "    tensor = tf.keras.preprocessing.sequence.pad_sequences(tensor, padding='post')\n",
    "\n",
    "    return tensor, tokenizer"
   ]
  },
  {
   "cell_type": "code",
   "execution_count": 39,
   "id": "090875d5",
   "metadata": {},
   "outputs": [],
   "source": [
    "#정제된 데이터 filtered_corpus를 공백 기반으로 토큰화하여 저장하는 코드\n",
    "split_corpus = []\n",
    "\n",
    "for kor in filtered_corpus:\n",
    "    split_corpus.append(kor.split())"
   ]
  },
  {
   "cell_type": "code",
   "execution_count": 40,
   "id": "95178f56",
   "metadata": {},
   "outputs": [
    {
     "name": "stdout",
     "output_type": "stream",
     "text": [
      "Split Vocab Size: 357307\n"
     ]
    }
   ],
   "source": [
    "# 토큰화 후 단어사전(코퍼스)의 길이 확인\n",
    "\n",
    "split_tensor, split_tokenizer = tokenize(split_corpus)\n",
    "\n",
    "print(\"Split Vocab Size:\", len(split_tokenizer.index_word))"
   ]
  },
  {
   "cell_type": "code",
   "execution_count": 41,
   "id": "5d39c4cb",
   "metadata": {},
   "outputs": [
    {
     "name": "stdout",
     "output_type": "stream",
     "text": [
      "0 : 영화\n",
      "1 : 너무\n",
      "2 : 정말\n",
      "3 : 진짜\n",
      "4 : 이\n",
      "5 : 영화.\n",
      "6 : 왜\n",
      "7 : 더\n",
      "8 : 이런\n",
      "9 : 그냥\n",
      "10 : 수\n",
      "11 : 영화를\n"
     ]
    }
   ],
   "source": [
    "#토큰화된 단어 예시 10개까지 확인\n",
    "\n",
    "for idx, word in enumerate(split_tokenizer.word_index):\n",
    "    print(idx, \":\", word)\n",
    "\n",
    "    if idx > 10: break"
   ]
  },
  {
   "cell_type": "markdown",
   "id": "e3d8157b",
   "metadata": {},
   "source": [
    "### 2. 형태소기반 Konlpy 사용 (총 5개 모두 사용)"
   ]
  },
  {
   "cell_type": "code",
   "execution_count": 43,
   "id": "9ce85863",
   "metadata": {},
   "outputs": [],
   "source": [
    "from konlpy.tag import Mecab\n",
    "\n",
    "mecab = Mecab()"
   ]
  },
  {
   "cell_type": "code",
   "execution_count": 44,
   "id": "d6befded",
   "metadata": {},
   "outputs": [
    {
     "name": "stdout",
     "output_type": "stream",
     "text": [
      "MeCab Vocab Size: 53453\n"
     ]
    }
   ],
   "source": [
    "# 2-1 mecab 사용\n",
    "\n",
    "def mecab_split(sentence):\n",
    "    return mecab.morphs(sentence)\n",
    "\n",
    "mecab_corpus = []\n",
    "\n",
    "for kor in filtered_corpus:\n",
    "    mecab_corpus.append(mecab_split(kor))\n",
    "    \n",
    "    \n",
    "    \n",
    "#형태소 기반 토큰화의 단어사전길이 확인\n",
    "\n",
    "mecab_tensor, mecab_tokenizer = tokenize(mecab_corpus)\n",
    "\n",
    "print(\"MeCab Vocab Size:\", len(mecab_tokenizer.index_word))"
   ]
  },
  {
   "cell_type": "code",
   "execution_count": 46,
   "id": "97d87e15",
   "metadata": {
    "scrolled": true
   },
   "outputs": [
    {
     "name": "stdout",
     "output_type": "stream",
     "text": [
      "0 : .\n",
      "1 : 이\n",
      "2 : 는\n",
      "3 : 영화\n",
      "4 : 다\n",
      "5 : 고\n",
      "6 : 하\n",
      "7 : 도\n",
      "8 : 의\n",
      "9 : 가\n",
      "10 : 은\n",
      "11 : 에\n",
      "12 : 을\n",
      "13 : 보\n",
      "14 : 한\n",
      "15 : ..\n",
      "16 : 게\n",
      "17 : ,\n",
      "18 : 들\n",
      "19 : !\n",
      "20 : 지\n",
      "21 : 를\n",
      "22 : 있\n",
      "23 : 없\n",
      "24 : ?\n",
      "25 : 좋\n",
      "26 : 나\n",
      "27 : 었\n",
      "28 : 만\n",
      "29 : 는데\n",
      "30 : 너무\n",
      "31 : 봤\n"
     ]
    }
   ],
   "source": [
    "for idx, word in enumerate(mecab_tokenizer.word_index):\n",
    "    print(idx, \":\", word)\n",
    "\n",
    "    if idx > 30: break"
   ]
  },
  {
   "cell_type": "code",
   "execution_count": null,
   "id": "eb4fb5b5",
   "metadata": {},
   "outputs": [],
   "source": [
    "# 2-2 OKT 사용\n",
    "# Konlpy에서 Okt를 불러옵니다.\n",
    "from konlpy.tag import Okt\n",
    "\n",
    "# Okt Class의 생성자를 이용하여 분석기를 생성 \n",
    "okt = Okt()\n",
    "\n",
    "def okt_split(sentence):\n",
    "    return okt.morphs(sentence)\n",
    "\n",
    "okt_corpus = []\n",
    "\n",
    "for kor in filtered_corpus:\n",
    "    okt_corpus.append(okt_split(kor))\n",
    "    \n",
    "    \n",
    "#형태소 기반 토큰화의 단어사전길이 확인\n",
    "\n",
    "okt_tensor, okt_tokenizer = tokenize(okt_corpus)\n",
    "\n",
    "print(\"Okt Vocab Size:\", len(okt_tokenizer.index_word))"
   ]
  },
  {
   "cell_type": "code",
   "execution_count": 48,
   "id": "ee4081f7",
   "metadata": {
    "scrolled": true
   },
   "outputs": [
    {
     "name": "stdout",
     "output_type": "stream",
     "text": [
      "0 : .\n",
      "1 : 이\n",
      "2 : 영화\n",
      "3 : 의\n",
      "4 : ..\n",
      "5 : 가\n",
      "6 : 에\n",
      "7 : 을\n",
      "8 : ...\n",
      "9 : 도\n",
      "10 : 들\n",
      "11 : ,\n",
      "12 : 는\n",
      "13 : 를\n",
      "14 : 은\n",
      "15 : 너무\n",
      "16 : ?\n",
      "17 : 한\n",
      "18 : 다\n",
      "19 : 정말\n",
      "20 : 적\n",
      "21 : 만\n",
      "22 : 진짜\n",
      "23 : !\n",
      "24 : 으로\n",
      "25 : 로\n",
      "26 : 점\n",
      "27 : 에서\n",
      "28 : 연기\n",
      "29 : 과\n",
      "30 : 것\n",
      "31 : 평점\n"
     ]
    }
   ],
   "source": [
    "for idx, word in enumerate(okt_tokenizer.word_index):\n",
    "    print(idx, \":\", word)\n",
    "\n",
    "    if idx > 30: break"
   ]
  },
  {
   "cell_type": "markdown",
   "id": "738afe12",
   "metadata": {},
   "source": [
    "### 3. sentencepiece 모델 사용"
   ]
  },
  {
   "cell_type": "code",
   "execution_count": 52,
   "id": "f990e5b2",
   "metadata": {
    "scrolled": true
   },
   "outputs": [
    {
     "name": "stderr",
     "output_type": "stream",
     "text": [
      "sentencepiece_trainer.cc(177) LOG(INFO) Running command: --input=/aiffel/aiffel/sp_tokenizer/data/korean-english-park.train.ko.temp --model_prefix=korean_spm --vocab_size=8000\n",
      "sentencepiece_trainer.cc(77) LOG(INFO) Starts training with : \n",
      "trainer_spec {\n",
      "  input: /aiffel/aiffel/sp_tokenizer/data/korean-english-park.train.ko.temp\n",
      "  input_format: \n",
      "  model_prefix: korean_spm\n",
      "  model_type: UNIGRAM\n",
      "  vocab_size: 8000\n",
      "  self_test_sample_size: 0\n",
      "  character_coverage: 0.9995\n",
      "  input_sentence_size: 0\n",
      "  shuffle_input_sentence: 1\n",
      "  seed_sentencepiece_size: 1000000\n",
      "  shrinking_factor: 0.75\n",
      "  max_sentence_length: 4192\n",
      "  num_threads: 16\n",
      "  num_sub_iterations: 2\n",
      "  max_sentencepiece_length: 16\n",
      "  split_by_unicode_script: 1\n",
      "  split_by_number: 1\n",
      "  split_by_whitespace: 1\n",
      "  split_digits: 0\n",
      "  treat_whitespace_as_suffix: 0\n",
      "  allow_whitespace_only_pieces: 0\n",
      "  required_chars: \n",
      "  byte_fallback: 0\n",
      "  vocabulary_output_piece_score: 1\n",
      "  train_extremely_large_corpus: 0\n",
      "  hard_vocab_limit: 1\n",
      "  use_all_vocab: 0\n",
      "  unk_id: 0\n",
      "  bos_id: 1\n",
      "  eos_id: 2\n",
      "  pad_id: -1\n",
      "  unk_piece: <unk>\n",
      "  bos_piece: <s>\n",
      "  eos_piece: </s>\n",
      "  pad_piece: <pad>\n",
      "  unk_surface:  ⁇ \n",
      "}\n",
      "normalizer_spec {\n",
      "  name: nmt_nfkc\n",
      "  add_dummy_prefix: 1\n",
      "  remove_extra_whitespaces: 1\n",
      "  escape_whitespaces: 1\n",
      "  normalization_rule_tsv: \n",
      "}\n",
      "denormalizer_spec {}\n",
      "trainer_interface.cc(329) LOG(INFO) SentenceIterator is not specified. Using MultiFileSentenceIterator.\n",
      "trainer_interface.cc(178) LOG(INFO) Loading corpus: /aiffel/aiffel/sp_tokenizer/data/korean-english-park.train.ko.temp\n",
      "trainer_interface.cc(385) LOG(INFO) Loaded all 146082 sentences\n",
      "trainer_interface.cc(400) LOG(INFO) Adding meta_piece: <unk>\n",
      "trainer_interface.cc(400) LOG(INFO) Adding meta_piece: <s>\n",
      "trainer_interface.cc(400) LOG(INFO) Adding meta_piece: </s>\n",
      "trainer_interface.cc(405) LOG(INFO) Normalizing sentences...\n",
      "trainer_interface.cc(466) LOG(INFO) all chars count=5410972\n",
      "trainer_interface.cc(477) LOG(INFO) Done: 99.9501% characters are covered.\n",
      "trainer_interface.cc(487) LOG(INFO) Alphabet size=1713\n",
      "trainer_interface.cc(488) LOG(INFO) Final character coverage=0.999501\n",
      "trainer_interface.cc(520) LOG(INFO) Done! preprocessed 146082 sentences.\n",
      "unigram_model_trainer.cc(139) LOG(INFO) Making suffix array...\n",
      "unigram_model_trainer.cc(143) LOG(INFO) Extracting frequent sub strings...\n",
      "unigram_model_trainer.cc(194) LOG(INFO) Initialized 309195 seed sentencepieces\n",
      "trainer_interface.cc(526) LOG(INFO) Tokenizing input sentences with whitespace: 146082\n",
      "trainer_interface.cc(537) LOG(INFO) Done! 357574\n",
      "unigram_model_trainer.cc(489) LOG(INFO) Using 357574 sentences for EM training\n",
      "unigram_model_trainer.cc(505) LOG(INFO) EM sub_iter=0 size=157916 obj=15.4598 num_tokens=843003 num_tokens/piece=5.3383\n",
      "unigram_model_trainer.cc(505) LOG(INFO) EM sub_iter=1 size=146138 obj=14.3911 num_tokens=848365 num_tokens/piece=5.80523\n",
      "unigram_model_trainer.cc(505) LOG(INFO) EM sub_iter=0 size=109540 obj=14.4885 num_tokens=883787 num_tokens/piece=8.06817\n",
      "unigram_model_trainer.cc(505) LOG(INFO) EM sub_iter=1 size=109361 obj=14.4328 num_tokens=884564 num_tokens/piece=8.08848\n",
      "unigram_model_trainer.cc(505) LOG(INFO) EM sub_iter=0 size=82018 obj=14.6694 num_tokens=928621 num_tokens/piece=11.3222\n",
      "unigram_model_trainer.cc(505) LOG(INFO) EM sub_iter=1 size=82007 obj=14.6079 num_tokens=928802 num_tokens/piece=11.3259\n",
      "unigram_model_trainer.cc(505) LOG(INFO) EM sub_iter=0 size=61505 obj=14.8676 num_tokens=970673 num_tokens/piece=15.782\n",
      "unigram_model_trainer.cc(505) LOG(INFO) EM sub_iter=1 size=61505 obj=14.8067 num_tokens=970720 num_tokens/piece=15.7828\n",
      "unigram_model_trainer.cc(505) LOG(INFO) EM sub_iter=0 size=46128 obj=15.0971 num_tokens=1015646 num_tokens/piece=22.018\n",
      "unigram_model_trainer.cc(505) LOG(INFO) EM sub_iter=1 size=46128 obj=15.0328 num_tokens=1015639 num_tokens/piece=22.0178\n",
      "unigram_model_trainer.cc(505) LOG(INFO) EM sub_iter=0 size=34596 obj=15.357 num_tokens=1061916 num_tokens/piece=30.6948\n",
      "unigram_model_trainer.cc(505) LOG(INFO) EM sub_iter=1 size=34596 obj=15.2906 num_tokens=1061975 num_tokens/piece=30.6965\n",
      "unigram_model_trainer.cc(505) LOG(INFO) EM sub_iter=0 size=25947 obj=15.6487 num_tokens=1109846 num_tokens/piece=42.7736\n",
      "unigram_model_trainer.cc(505) LOG(INFO) EM sub_iter=1 size=25947 obj=15.5761 num_tokens=1109861 num_tokens/piece=42.7742\n",
      "unigram_model_trainer.cc(505) LOG(INFO) EM sub_iter=0 size=19460 obj=15.9621 num_tokens=1160071 num_tokens/piece=59.6131\n",
      "unigram_model_trainer.cc(505) LOG(INFO) EM sub_iter=1 size=19460 obj=15.8819 num_tokens=1160089 num_tokens/piece=59.614\n",
      "unigram_model_trainer.cc(505) LOG(INFO) EM sub_iter=0 size=14595 obj=16.306 num_tokens=1213490 num_tokens/piece=83.1442\n",
      "unigram_model_trainer.cc(505) LOG(INFO) EM sub_iter=1 size=14595 obj=16.2141 num_tokens=1213500 num_tokens/piece=83.1449\n",
      "unigram_model_trainer.cc(505) LOG(INFO) EM sub_iter=0 size=10946 obj=16.6816 num_tokens=1270895 num_tokens/piece=116.106\n",
      "unigram_model_trainer.cc(505) LOG(INFO) EM sub_iter=1 size=10946 obj=16.5706 num_tokens=1270907 num_tokens/piece=116.107\n",
      "unigram_model_trainer.cc(505) LOG(INFO) EM sub_iter=0 size=8800 obj=16.9562 num_tokens=1316209 num_tokens/piece=149.569\n",
      "unigram_model_trainer.cc(505) LOG(INFO) EM sub_iter=1 size=8800 obj=16.8721 num_tokens=1316371 num_tokens/piece=149.588\n",
      "trainer_interface.cc(615) LOG(INFO) Saving model: korean_spm.model\n",
      "trainer_interface.cc(626) LOG(INFO) Saving vocabs: korean_spm.vocab\n"
     ]
    },
    {
     "name": "stdout",
     "output_type": "stream",
     "text": [
      "-rw-r--r-- 1 root root 374671 Nov  7 07:27 korean_spm.model\r\n",
      "-rw-r--r-- 1 root root 144092 Nov  7 07:27 korean_spm.vocab\r\n"
     ]
    }
   ],
   "source": [
    "# sentencepiece 모델 사용\n",
    "\n",
    "import sentencepiece as spm\n",
    "import os\n",
    "temp_file = os.getenv('HOME')+'/aiffel/sp_tokenizer/data/korean-english-park.train.ko.temp'\n",
    "\n",
    "vocab_size = 8000 #이거 역할 뭐임?\n",
    "\n",
    "with open(temp_file, 'w') as f:\n",
    "    for row in filtered_corpus:   # 이전에 나왔던 정제했던 corpus를 활용해서 진행해야 합니다.\n",
    "        f.write(str(row) + '\\n')\n",
    "\n",
    "spm.SentencePieceTrainer.Train(\n",
    "    '--input={} --model_prefix=korean_spm --vocab_size={}'.format(temp_file, vocab_size)    \n",
    ")\n",
    "#위 Train에서  --model_type = unigram이 디폴트 적용되어 있습니다. --model_type = bpe로 옵션을 주어 변경할 수 있습니다.\n",
    "\n",
    "!ls -l korean_spm*"
   ]
  },
  {
   "cell_type": "code",
   "execution_count": 53,
   "id": "57df16c5",
   "metadata": {},
   "outputs": [
    {
     "name": "stdout",
     "output_type": "stream",
     "text": [
      "[1401, 10, 388, 15, 1324, 10, 123, 17, 4]\n",
      "['▁아버지', '가', '방', '에', '들어', '가', '신', '다', '.']\n",
      "아버지가방에들어가신다.\n"
     ]
    }
   ],
   "source": [
    "# sentencepiece 모델 작동 확인\n",
    "\n",
    "s = spm.SentencePieceProcessor()\n",
    "s.Load('korean_spm.model')\n",
    "\n",
    "# SentencePiece를 활용한 sentence -> encoding\n",
    "tokensIDs = s.EncodeAsIds('아버지가방에들어가신다.')\n",
    "print(tokensIDs)\n",
    "\n",
    "# SentencePiece를 활용한 sentence -> encoded pieces\n",
    "print(s.SampleEncodeAsPieces('아버지가방에들어가신다.',1, 0.0))\n",
    "\n",
    "# SentencePiece를 활용한 encoding -> sentence 복원\n",
    "print(s.DecodeIds(tokensIDs))"
   ]
  },
  {
   "cell_type": "code",
   "execution_count": 55,
   "id": "52ae13b9",
   "metadata": {},
   "outputs": [],
   "source": [
    "#SP모델 적용\n",
    "\n",
    "def sp_tokenize(s, corpus): \n",
    "\n",
    "    tensor = []\n",
    "\n",
    "    for sen in corpus:\n",
    "        tensor.append(s.EncodeAsIds(sen))\n",
    "\n",
    "    with open(\"./korean_spm.vocab\", 'r') as f:\n",
    "        vocab = f.readlines()\n",
    "\n",
    "    word_index = {}\n",
    "    index_word = {}\n",
    "\n",
    "    for idx, line in enumerate(vocab):\n",
    "        word = line.split(\"\\t\")[0]\n",
    "\n",
    "        word_index.update({word:idx})\n",
    "        index_word.update({idx:word})\n",
    "\n",
    "    tensor = tf.keras.preprocessing.sequence.pad_sequences(tensor, padding='post')\n",
    "\n",
    "    return tensor, word_index, index_word"
   ]
  },
  {
   "cell_type": "code",
   "execution_count": 59,
   "id": "7bf474d2",
   "metadata": {},
   "outputs": [
    {
     "name": "stdout",
     "output_type": "stream",
     "text": [
      "SP Vocab Size: 8000\n"
     ]
    }
   ],
   "source": [
    "tensor, word_index, index_word = sp_tokenize(s, filtered_corpus)\n",
    "\n",
    "print(\"SP Vocab Size:\", len(word_index))"
   ]
  },
  {
   "cell_type": "code",
   "execution_count": null,
   "id": "cca1f5c6",
   "metadata": {},
   "outputs": [],
   "source": []
  },
  {
   "cell_type": "code",
   "execution_count": null,
   "id": "d8cbe75c",
   "metadata": {},
   "outputs": [],
   "source": []
  },
  {
   "cell_type": "code",
   "execution_count": null,
   "id": "af5aaa99",
   "metadata": {},
   "outputs": [],
   "source": []
  },
  {
   "cell_type": "code",
   "execution_count": null,
   "id": "7a0d9aa0",
   "metadata": {},
   "outputs": [],
   "source": []
  },
  {
   "cell_type": "code",
   "execution_count": null,
   "id": "17a8390a",
   "metadata": {},
   "outputs": [],
   "source": []
  }
 ],
 "metadata": {
  "kernelspec": {
   "display_name": "Python 3 (ipykernel)",
   "language": "python",
   "name": "python3"
  },
  "language_info": {
   "codemirror_mode": {
    "name": "ipython",
    "version": 3
   },
   "file_extension": ".py",
   "mimetype": "text/x-python",
   "name": "python",
   "nbconvert_exporter": "python",
   "pygments_lexer": "ipython3",
   "version": "3.9.7"
  }
 },
 "nbformat": 4,
 "nbformat_minor": 5
}
